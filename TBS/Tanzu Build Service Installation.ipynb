{
 "cells": [
  {
   "cell_type": "markdown",
   "metadata": {},
   "source": [
    "# Tanzu Build Service - Installation Script"
   ]
  },
  {
   "cell_type": "markdown",
   "metadata": {},
   "source": [
    "## vSphere Installation (HomeLab)\n",
    "\n",
    "- PKS Setup on vSphere - UAA with OIDC Enabled\n",
    "- Harbor Setup with latest version or above 1.10+\n",
    "- Installaing MetalLB - LB for bare metal and home labs\n",
    "- Ingress Controller Setup - Contour\n"
   ]
  },
  {
   "cell_type": "markdown",
   "metadata": {},
   "source": [
    "### PKS Setup with OIDC enabled"
   ]
  },
  {
   "cell_type": "markdown",
   "metadata": {},
   "source": [
    "Setup Required:\n",
    "\n",
    "- PKS version: 1.6.1-build.6\n",
    "- Harbor Version: Version v1.10.1-f3e11715\n",
    "- OIDC Enabled: PKS OpsMan -> Enterprise PKS -> UAA Configuration -> Configure created clusters to use UAA as the OIDC provider. - Enable "
   ]
  },
  {
   "cell_type": "markdown",
   "metadata": {},
   "source": [
    "### UAA User Creation"
   ]
  },
  {
   "cell_type": "code",
   "execution_count": null,
   "metadata": {},
   "outputs": [],
   "source": [
    "!uaac target https://api.pks.lab.digitalkloud.com:8443 --ca-cert /var/tempest/workspaces/default/root_ca_certificate"
   ]
  },
  {
   "cell_type": "markdown",
   "metadata": {},
   "source": [
    "#### Authenticate with UAA by running following command: uaac token client get admin -s ADMIN-CLIENT-SECRET (Get it from OpsMan Credentials Tab)"
   ]
  },
  {
   "cell_type": "code",
   "execution_count": null,
   "metadata": {},
   "outputs": [],
   "source": [
    "!uaac token client get admin -s <PKS ADMIN CLIENT SECRET>"
   ]
  },
  {
   "cell_type": "markdown",
   "metadata": {},
   "source": [
    "#### Create a new User"
   ]
  },
  {
   "cell_type": "code",
   "execution_count": null,
   "metadata": {},
   "outputs": [],
   "source": [
    "!uaac user add <username> --emails <user@email> -p <password>"
   ]
  },
  {
   "cell_type": "code",
   "execution_count": null,
   "metadata": {},
   "outputs": [],
   "source": [
    "!uaac member add pks.clusters.admin <username>"
   ]
  },
  {
   "cell_type": "markdown",
   "metadata": {},
   "source": [
    "### Create a PKS cluster with new user"
   ]
  },
  {
   "cell_type": "code",
   "execution_count": null,
   "metadata": {},
   "outputs": [],
   "source": [
    "!pks login -u shashmi -p Admin@1234 -a api.pks.lab.digitalkloud.com -k"
   ]
  },
  {
   "cell_type": "code",
   "execution_count": 2,
   "metadata": {},
   "outputs": [
    {
     "name": "stdout",
     "output_type": "stream",
     "text": [
      "\n",
      "Name   ID                                    Description\n",
      "Small  8A0E21A8-8072-4D80-B365-D1F502085560  This plan will configure a lightweight Kubernetes cluster. Not recommended for production workloads.\n",
      "\n"
     ]
    }
   ],
   "source": [
    "!pks plans"
   ]
  },
  {
   "cell_type": "code",
   "execution_count": 86,
   "metadata": {},
   "outputs": [
    {
     "name": "stdout",
     "output_type": "stream",
     "text": [
      "\n",
      "PKS Version:              1.6.1-build.6\n",
      "Name:                     lab-cluster\n",
      "K8s Version:              1.15.5\n",
      "Plan Name:                Small\n",
      "UUID:                     7495bdfb-6a7b-4d62-9a73-09a55cd00c18\n",
      "Last Action:              CREATE\n",
      "Last Action State:        in progress\n",
      "Last Action Description:  Creating cluster\n",
      "Kubernetes Master Host:   sh.lab.cluster.digitalkloud.com\n",
      "Kubernetes Master Port:   8443\n",
      "Worker Nodes:             3\n",
      "Kubernetes Master IP(s):  In Progress\n",
      "Network Profile Name:     \n",
      "\n",
      "Use 'pks cluster lab-cluster' to monitor the state of your cluster\n",
      "\n"
     ]
    }
   ],
   "source": [
    "!pks create-cluster lab-cluster --external-hostname sh.lab.cluster.digitalkloud.com --plan small"
   ]
  },
  {
   "cell_type": "code",
   "execution_count": 4,
   "metadata": {},
   "outputs": [
    {
     "name": "stdout",
     "output_type": "stream",
     "text": [
      "\n",
      "PKS Version    Name           k8s Version  Plan Name  UUID                                  Status     Action\n",
      "1.6.1-build.6  lab01-cluster  1.15.5       Small      7039eae2-c482-452a-9cfc-ac5f817b338c  succeeded  CREATE\n",
      "\n"
     ]
    }
   ],
   "source": [
    "!pks clusters"
   ]
  },
  {
   "cell_type": "code",
   "execution_count": null,
   "metadata": {},
   "outputs": [],
   "source": [
    "!pks get credentials"
   ]
  },
  {
   "cell_type": "code",
   "execution_count": null,
   "metadata": {},
   "outputs": [],
   "source": [
    "!kubectl config use-context lab01-cluster"
   ]
  },
  {
   "cell_type": "code",
   "execution_count": null,
   "metadata": {},
   "outputs": [],
   "source": [
    "!kubectl get nodes"
   ]
  },
  {
   "cell_type": "code",
   "execution_count": null,
   "metadata": {},
   "outputs": [],
   "source": [
    "!kubectl get po"
   ]
  },
  {
   "cell_type": "markdown",
   "metadata": {},
   "source": [
    "### Installing MetalLB on PKS Cluster"
   ]
  },
  {
   "cell_type": "markdown",
   "metadata": {},
   "source": [
    "- Reference Link for Installation: Install metallb - https://metallb.universe.tf/\n",
    "- Copy the apply command and run it\n",
    "- Create a config map and updated the internal IP range with the Node IP ranges in your env\n",
    "- Test by deploying an nginx app"
   ]
  },
  {
   "cell_type": "code",
   "execution_count": 87,
   "metadata": {},
   "outputs": [
    {
     "name": "stdout",
     "output_type": "stream",
     "text": [
      "namespace/metallb-system created\n",
      "podsecuritypolicy.policy/speaker created\n",
      "serviceaccount/controller created\n",
      "serviceaccount/speaker created\n",
      "clusterrole.rbac.authorization.k8s.io/metallb-system:controller created\n",
      "clusterrole.rbac.authorization.k8s.io/metallb-system:speaker created\n",
      "role.rbac.authorization.k8s.io/config-watcher created\n",
      "clusterrolebinding.rbac.authorization.k8s.io/metallb-system:controller created\n",
      "clusterrolebinding.rbac.authorization.k8s.io/metallb-system:speaker created\n",
      "rolebinding.rbac.authorization.k8s.io/config-watcher created\n",
      "daemonset.apps/speaker created\n",
      "deployment.apps/controller created\n"
     ]
    }
   ],
   "source": [
    "!kubectl apply -f https://raw.githubusercontent.com/google/metallb/v0.8.3/manifests/metallb.yaml"
   ]
  },
  {
   "cell_type": "code",
   "execution_count": 6,
   "metadata": {},
   "outputs": [
    {
     "name": "stdout",
     "output_type": "stream",
     "text": [
      "NAME                                   STATUS   ROLES    AGE   VERSION   INTERNAL-IP      EXTERNAL-IP      OS-IMAGE             KERNEL-VERSION      CONTAINER-RUNTIME\r\n",
      "1709af9a-4208-4149-b8e4-4e191c0e0c6a   Ready    <none>   14h   v1.15.5   192.168.40.204   192.168.40.204   Ubuntu 16.04.6 LTS   4.15.0-66-generic   docker://18.9.9\r\n",
      "76612da5-ced1-4bbb-8bf2-9882e8ac672d   Ready    <none>   14h   v1.15.5   192.168.40.203   192.168.40.203   Ubuntu 16.04.6 LTS   4.15.0-66-generic   docker://18.9.9\r\n",
      "eb2de809-6472-4328-8fd2-84d4f675555a   Ready    <none>   14h   v1.15.5   192.168.40.202   192.168.40.202   Ubuntu 16.04.6 LTS   4.15.0-66-generic   docker://18.9.9\r\n"
     ]
    }
   ],
   "source": [
    "!kubectl get no -o wide"
   ]
  },
  {
   "cell_type": "markdown",
   "metadata": {},
   "source": [
    "#### Create a ConfigMap:\n",
    "\n",
    "- Identify the IP ranges from the Internal IP range above and select a range\n",
    "- Apply the below config map and verify it that it lies in the same namespace\n",
    "- Deploy a NGINX image to see if LoadBalance type works\n",
    "\n",
    "apiVersion: v1\n",
    "kind: ConfigMap\n",
    "metadata:\n",
    "  namespace: metallb-system\n",
    "  name: config\n",
    "data:\n",
    "  config: |\n",
    "    address-pools:\n",
    "    - name: default\n",
    "      protocol: layer2\n",
    "      addresses:\n",
    "      - 192.168.40.238-192.168.40.250\n",
    "\n"
   ]
  },
  {
   "cell_type": "code",
   "execution_count": 88,
   "metadata": {},
   "outputs": [
    {
     "name": "stdout",
     "output_type": "stream",
     "text": [
      "Name:         config\r\n",
      "Namespace:    metallb-system\r\n",
      "Labels:       <none>\r\n",
      "Annotations:  kubectl.kubernetes.io/last-applied-configuration:\r\n",
      "                {\"apiVersion\":\"v1\",\"data\":{\"config\":\"address-pools:\\n- name: default\\n  protocol: layer2\\n  addresses:\\n  - 192.168.40.238-192.168.40.250\\...\r\n",
      "\r\n",
      "Data\r\n",
      "====\r\n",
      "config:\r\n",
      "----\r\n",
      "address-pools:\r\n",
      "- name: default\r\n",
      "  protocol: layer2\r\n",
      "  addresses:\r\n",
      "  - 192.168.40.238-192.168.40.250\r\n",
      "\r\n",
      "Events:  <none>\r\n"
     ]
    }
   ],
   "source": [
    "!kubectl describe configmaps -n metallb-system"
   ]
  },
  {
   "cell_type": "code",
   "execution_count": 8,
   "metadata": {},
   "outputs": [
    {
     "name": "stdout",
     "output_type": "stream",
     "text": [
      "kubectl run --generator=deployment/apps.v1 is DEPRECATED and will be removed in a future version. Use kubectl run --generator=run-pod/v1 or kubectl create instead.\n",
      "deployment.apps/nginx created\n"
     ]
    }
   ],
   "source": [
    "!kubectl run nginx --image nginx"
   ]
  },
  {
   "cell_type": "code",
   "execution_count": 9,
   "metadata": {},
   "outputs": [
    {
     "name": "stdout",
     "output_type": "stream",
     "text": [
      "service/nginx exposed\r\n"
     ]
    }
   ],
   "source": [
    "!kubectl expose deploy nginx --port 80 --type LoadBalancer"
   ]
  },
  {
   "cell_type": "code",
   "execution_count": 10,
   "metadata": {},
   "outputs": [
    {
     "name": "stdout",
     "output_type": "stream",
     "text": [
      "NAME                         READY   STATUS    RESTARTS   AGE\r\n",
      "pod/nginx-7bb7cd8db5-btb44   1/1     Running   0          17s\r\n",
      "\r\n",
      "NAME                 TYPE           CLUSTER-IP       EXTERNAL-IP      PORT(S)        AGE\r\n",
      "service/kubernetes   ClusterIP      10.100.200.1     <none>           443/TCP        14h\r\n",
      "service/nginx        LoadBalancer   10.100.200.215   192.168.40.240   80:32633/TCP   15s\r\n",
      "\r\n",
      "NAME                    READY   UP-TO-DATE   AVAILABLE   AGE\r\n",
      "deployment.apps/nginx   1/1     1            1           17s\r\n",
      "\r\n",
      "NAME                               DESIRED   CURRENT   READY   AGE\r\n",
      "replicaset.apps/nginx-7bb7cd8db5   1         1         1       17s\r\n"
     ]
    }
   ],
   "source": [
    "!kubectl get all"
   ]
  },
  {
   "cell_type": "markdown",
   "metadata": {},
   "source": [
    "Open a browser and navigate to: http://192.168.40.240 - You will be able to see NGINX home page."
   ]
  },
  {
   "cell_type": "markdown",
   "metadata": {},
   "source": [
    "![NGINX](img/nginx-server.png)"
   ]
  },
  {
   "cell_type": "markdown",
   "metadata": {},
   "source": [
    "Clean up the nginx deployment"
   ]
  },
  {
   "cell_type": "code",
   "execution_count": 11,
   "metadata": {},
   "outputs": [
    {
     "name": "stdout",
     "output_type": "stream",
     "text": [
      "deployment.extensions \"nginx\" deleted\r\n"
     ]
    }
   ],
   "source": [
    "!kubectl delete deployment nginx"
   ]
  },
  {
   "cell_type": "code",
   "execution_count": 14,
   "metadata": {},
   "outputs": [
    {
     "name": "stdout",
     "output_type": "stream",
     "text": [
      "service \"nginx\" deleted\r\n"
     ]
    }
   ],
   "source": [
    "!kubectl delete services/nginx"
   ]
  },
  {
   "cell_type": "code",
   "execution_count": 15,
   "metadata": {},
   "outputs": [
    {
     "name": "stdout",
     "output_type": "stream",
     "text": [
      "NAME                 TYPE        CLUSTER-IP     EXTERNAL-IP   PORT(S)   AGE\r\n",
      "service/kubernetes   ClusterIP   10.100.200.1   <none>        443/TCP   14h\r\n"
     ]
    }
   ],
   "source": [
    "!kubectl get all"
   ]
  },
  {
   "cell_type": "markdown",
   "metadata": {},
   "source": [
    "### Install Contour - Ingress Controller"
   ]
  },
  {
   "cell_type": "code",
   "execution_count": 97,
   "metadata": {},
   "outputs": [
    {
     "name": "stdout",
     "output_type": "stream",
     "text": [
      "namespace/projectcontour created\n",
      "serviceaccount/contour created\n",
      "configmap/contour created\n",
      "customresourcedefinition.apiextensions.k8s.io/ingressroutes.contour.heptio.com configured\n",
      "customresourcedefinition.apiextensions.k8s.io/tlscertificatedelegations.contour.heptio.com configured\n",
      "customresourcedefinition.apiextensions.k8s.io/httpproxies.projectcontour.io configured\n",
      "customresourcedefinition.apiextensions.k8s.io/tlscertificatedelegations.projectcontour.io configured\n",
      "serviceaccount/contour-certgen created\n",
      "rolebinding.rbac.authorization.k8s.io/contour created\n",
      "role.rbac.authorization.k8s.io/contour-certgen created\n",
      "job.batch/contour-certgen created\n",
      "clusterrolebinding.rbac.authorization.k8s.io/contour unchanged\n",
      "clusterrole.rbac.authorization.k8s.io/contour unchanged\n",
      "role.rbac.authorization.k8s.io/contour-leaderelection created\n",
      "rolebinding.rbac.authorization.k8s.io/contour-leaderelection created\n",
      "service/contour created\n",
      "service/envoy created\n",
      "deployment.apps/contour created\n",
      "daemonset.apps/envoy created\n"
     ]
    }
   ],
   "source": [
    "!kubectl apply -f https://projectcontour.io/quickstart/contour.yaml"
   ]
  },
  {
   "cell_type": "markdown",
   "metadata": {},
   "source": [
    "#### Test a sample application with Contour Ingress Controller"
   ]
  },
  {
   "cell_type": "code",
   "execution_count": 81,
   "metadata": {},
   "outputs": [
    {
     "name": "stdout",
     "output_type": "stream",
     "text": [
      "deployment.apps/kuard created\n",
      "service/kuard created\n",
      "ingress.networking.k8s.io/kuard unchanged\n"
     ]
    }
   ],
   "source": [
    "!kubectl apply -f https://projectcontour.io/examples/kuard.yaml"
   ]
  },
  {
   "cell_type": "markdown",
   "metadata": {},
   "source": [
    "#### Retrieve the external address of Contour’s Envoy load balancer"
   ]
  },
  {
   "cell_type": "code",
   "execution_count": 90,
   "metadata": {},
   "outputs": [
    {
     "name": "stdout",
     "output_type": "stream",
     "text": [
      "NAME    TYPE           CLUSTER-IP      EXTERNAL-IP      PORT(S)                      AGE   SELECTOR\r\n",
      "envoy   LoadBalancer   10.100.200.32   192.168.40.238   80:31955/TCP,443:32139/TCP   64s   app=envoy\r\n"
     ]
    }
   ],
   "source": [
    "!kubectl get -n projectcontour service envoy -o wide"
   ]
  },
  {
   "cell_type": "code",
   "execution_count": 22,
   "metadata": {},
   "outputs": [
    {
     "name": "stdout",
     "output_type": "stream",
     "text": [
      "deployment.extensions \"kuard\" deleted\r\n"
     ]
    }
   ],
   "source": [
    "!kubectl delete deployment/kuard"
   ]
  },
  {
   "cell_type": "markdown",
   "metadata": {},
   "source": [
    "### Create Persistent Volume and Claim for TBS"
   ]
  },
  {
   "cell_type": "markdown",
   "metadata": {},
   "source": [
    "Persistent Volume:\n",
    "\n",
    "apiVersion: storage.k8s.io/v1\n",
    "kind: StorageClass\n",
    "metadata:\n",
    "  name: fast\n",
    "  annotations:\n",
    "    storageclass.kubernetes.io/is-default-class: \"true\"\n",
    "provisioner: kubernetes.io/vsphere-volume\n",
    "parameters:\n",
    "  datastore: datastore1\n",
    "  diskformat: thin\n",
    "  fstype: ext3\n"
   ]
  },
  {
   "cell_type": "raw",
   "metadata": {},
   "source": [
    "Persistent Volume Claim leveraging the above volume:\n",
    "\n",
    "kind: PersistentVolumeClaim\n",
    "apiVersion: v1\n",
    "metadata:\n",
    "  name: pvcsc001\n",
    "  annotations:\n",
    "    volume.beta.kubernetes.io/storage-class: fast\n",
    "spec:\n",
    "  accessModes:\n",
    "    - ReadWriteOnce\n",
    "  resources:\n",
    "    requests:\n",
    "      storage: 2Gi\n"
   ]
  },
  {
   "cell_type": "code",
   "execution_count": 24,
   "metadata": {},
   "outputs": [
    {
     "name": "stdout",
     "output_type": "stream",
     "text": [
      "/Users/shashmi/workspace/greatlakes-repo/tanzu-jupyter-scripts/TBS\r\n"
     ]
    }
   ],
   "source": [
    "!pwd"
   ]
  },
  {
   "cell_type": "code",
   "execution_count": 29,
   "metadata": {},
   "outputs": [
    {
     "name": "stdout",
     "output_type": "stream",
     "text": [
      "storageclass.storage.k8s.io/fast created\r\n"
     ]
    }
   ],
   "source": [
    "!kubectl apply -f setup/tbs-pv.yaml"
   ]
  },
  {
   "cell_type": "code",
   "execution_count": 34,
   "metadata": {},
   "outputs": [
    {
     "name": "stdout",
     "output_type": "stream",
     "text": [
      "persistentvolumeclaim/pvcsc001 created\r\n"
     ]
    }
   ],
   "source": [
    "!kubectl apply -f setup/tbs-pcv.yaml"
   ]
  },
  {
   "cell_type": "code",
   "execution_count": 91,
   "metadata": {},
   "outputs": [
    {
     "name": "stdout",
     "output_type": "stream",
     "text": [
      "NAME                                       CAPACITY   ACCESS MODES   RECLAIM POLICY   STATUS   CLAIM              STORAGECLASS   REASON   AGE\r\n",
      "pvc-d0b4e653-2b3b-4884-a435-63e81134d8c2   2Gi        RWO            Delete           Bound    default/pvcsc001   fast                    20s\r\n"
     ]
    }
   ],
   "source": [
    "!kubectl get pv"
   ]
  },
  {
   "cell_type": "code",
   "execution_count": 92,
   "metadata": {},
   "outputs": [
    {
     "name": "stdout",
     "output_type": "stream",
     "text": [
      "NAME       STATUS   VOLUME                                     CAPACITY   ACCESS MODES   STORAGECLASS   AGE\r\n",
      "pvcsc001   Bound    pvc-d0b4e653-2b3b-4884-a435-63e81134d8c2   2Gi        RWO            fast           24s\r\n"
     ]
    }
   ],
   "source": [
    "!kubectl get pvc"
   ]
  },
  {
   "cell_type": "markdown",
   "metadata": {},
   "source": [
    "### Configuring Certificates for TBS"
   ]
  },
  {
   "cell_type": "markdown",
   "metadata": {},
   "source": [
    "#### Copy Harbor SSL cert and CA cert from OpsMan Harbor tile and Add it to OCX Store\n",
    "\n",
    "- Reference Link: https://support.securly.com/hc/en-us/articles/206058318-How-to-install-the-Securly-SSL-certificate-on-Mac-OSX-"
   ]
  },
  {
   "cell_type": "markdown",
   "metadata": {},
   "source": [
    "#### Install duffle and pb CLI\n",
    "\n",
    "- Download Duffle and PB cli from pivnet\n",
    "- rename duffle-0.0.4-darwin to duffle\n",
    "- rename pb-0.0.4-darwin to pb\n",
    "- chmod +x duffle\n",
    "- chmod +x pb\n",
    "- mv duffle /usr/local/bin\n",
    "- mv pb /usr/local/bin"
   ]
  },
  {
   "cell_type": "code",
   "execution_count": 83,
   "metadata": {},
   "outputs": [
    {
     "name": "stdout",
     "output_type": "stream",
     "text": [
      "0.3.2-beta.1\r\n"
     ]
    }
   ],
   "source": [
    "!duffle version"
   ]
  },
  {
   "cell_type": "code",
   "execution_count": 84,
   "metadata": {},
   "outputs": [
    {
     "name": "stdout",
     "output_type": "stream",
     "text": [
      "CLI Version: 0.0.4 (d5c17831)\r\n",
      "\r\n",
      "ERROR: please run `pb api set` to configure an API target\r\n"
     ]
    }
   ],
   "source": [
    "!pb version"
   ]
  },
  {
   "cell_type": "code",
   "execution_count": 52,
   "metadata": {},
   "outputs": [
    {
     "name": "stdout",
     "output_type": "stream",
     "text": [
      "README.md                               \u001b[1m\u001b[36mimg\u001b[m\u001b[m/\r\n",
      "Tanzu Build Service Installation.ipynb  \u001b[1m\u001b[36msetup\u001b[m\u001b[m/\r\n"
     ]
    }
   ],
   "source": [
    "ls"
   ]
  },
  {
   "cell_type": "markdown",
   "metadata": {},
   "source": [
    "Give the **path** where you have downloaded build-service-0.0.4.tgz or run it from that location"
   ]
  },
  {
   "cell_type": "code",
   "execution_count": null,
   "metadata": {},
   "outputs": [],
   "source": [
    "!duffle relocate -f ./build-service-0.0.4.tgz -m ./relocated.json -p harbor.lab.digitalkloud.com/buildservice"
   ]
  },
  {
   "cell_type": "markdown",
   "metadata": {},
   "source": [
    "Once you run the above command, **relocated.json** will be created and a builder package will be created inside your Harbor Repository under **buildservice** project"
   ]
  },
  {
   "cell_type": "markdown",
   "metadata": {},
   "source": [
    "![HARBOR-Buildservice](img/harbor-buildservice.png)"
   ]
  },
  {
   "cell_type": "markdown",
   "metadata": {},
   "source": [
    "#### Create a build-service-parameters.json\n",
    "\n",
    "{\n",
    "   \"ingress_annotations\":{\n",
    "      \"kubernetes.io/ingress.class\":\"contour\"\n",
    "   }\n",
    "}\n"
   ]
  },
  {
   "cell_type": "markdown",
   "metadata": {},
   "source": [
    "#### Create a DNS for your TBS\n",
    "\n",
    "- For example: pbs.lab.digitalkloud.com\n",
    "- Use openssl if you have to generate a self signed certificate with the below command\n",
    "- Provide all the information including FQDN when prompted"
   ]
  },
  {
   "cell_type": "code",
   "execution_count": null,
   "metadata": {},
   "outputs": [],
   "source": [
    "!openssl req -x509 -newkey rsa:4096 -keyout key.pem -out cert.pem -days 365"
   ]
  },
  {
   "cell_type": "markdown",
   "metadata": {},
   "source": [
    "#### Create a build-service-credentials.yml file with below content:\n",
    "\n",
    "- Reference Link : https://docs.pivotal.io/build-service/0-0-4/installing.html\n",
    "\n",
    "\n",
    "name: build-service-credentials\n",
    "credentials:\n",
    " - name: kube_config\n",
    "   source:\n",
    "     path: \"PATH-TO-KUBECONFIG\"\n",
    "   destination:\n",
    "     path: \"/root/.kube/config\"\n",
    " - name: ca_cert #This is your Harbor CA Cert\n",
    "   source:\n",
    "     path: \"PATH-TO-CA\"\n",
    "   destination:\n",
    "     path: \"/cnab/app/cert/ca.crt\"\n",
    " - name: tls_cert\n",
    "   source:\n",
    "     path: \"PATH-TO-TLS-CERTIFICATE\"\n",
    "   destination:\n",
    "     path: \"/cnab/app/cert/tls.crt\"\n",
    " - name: tls_key\n",
    "   source:\n",
    "     path: \"PATH-TO-TLS-PRIVATE-KEY\"\n",
    "   destination:\n",
    "     path: \"/cnab/app/cert/tls.key\""
   ]
  },
  {
   "cell_type": "code",
   "execution_count": 71,
   "metadata": {},
   "outputs": [
    {
     "name": "stdout",
     "output_type": "stream",
     "text": [
      "Can't open cert.pem for reading, No such file or directory\r\n",
      "140735746089856:error:02001002:system library:fopen:No such file or directory:crypto/bio/bss_file.c:69:fopen('cert.pem','r')\r\n",
      "140735746089856:error:2006D080:BIO routines:BIO_new_file:no such file:crypto/bio/bss_file.c:76:\r\n",
      "unable to load certificate\r\n"
     ]
    }
   ],
   "source": [
    "!openssl x509 -subject -issuer -noout -in cert.pem"
   ]
  },
  {
   "cell_type": "markdown",
   "metadata": {},
   "source": [
    "### Install Build Service"
   ]
  },
  {
   "cell_type": "code",
   "execution_count": 57,
   "metadata": {},
   "outputs": [
    {
     "name": "stdout",
     "output_type": "stream",
     "text": [
      "\u001b[1m\u001b[36mHarborCerts-Lab\u001b[m\u001b[m/                cert.pem\r\n",
      "build-service-0.0.4.tgz         key.pem\r\n",
      "build-service-credentials.yml   relocated.json\r\n",
      "build-service-parameteres.json\r\n"
     ]
    }
   ],
   "source": [
    "ls ../../../TANZU/tanzu-build-service/"
   ]
  },
  {
   "cell_type": "markdown",
   "metadata": {},
   "source": [
    "#### As above in the directory above where you have the following:\n",
    "\n",
    "- build-service-credentials.yml\n",
    "- build-service-parameters.json\n",
    "- buildserver tar file (build-service.0.0.4.tgz)\n",
    "- relocated.json (generated in the above steps)\n",
    "\n",
    "Fill out the remaining as per your environment and run the duffle command:\n",
    "\n",
    "\n",
    "duffle install pbs -c ./build-service-credentials.yml  \\\n",
    "    --set domain=pbs.lab.digitalkloud.com \\\n",
    "    --set kubernetes_env=platform-services \\\n",
    "    --set docker_registry=harbor.lab.digitalkloud.com \\\n",
    "    --set registry_username=\"admin\" \\\n",
    "    --set registry_password=\"<password>\" \\\n",
    "    --set uaa_url=\"https://api.pks.lab.digitalkloud.com:8443\" \\\n",
    "    -p ./build-service-parameteres.json \\\n",
    "    -f ./build-service-0.0.4.tgz \\\n",
    "    -m ./relocated.json\n",
    "\n",
    "\n",
    "Avoiding duffle error: claim already exists\n",
    "If an install fails or if you prefer to reset your Kubernetes cluster rather than uninstalling, you can remove existing duffle claims by deleting the files in ~/.duffle/claims. This will allow you to re-install without encountering the “claim already exists” error.\n",
    "\n"
   ]
  },
  {
   "cell_type": "code",
   "execution_count": 94,
   "metadata": {},
   "outputs": [
    {
     "name": "stdout",
     "output_type": "stream",
     "text": [
      "NAME                    STATUS   AGE\r\n",
      "build-service-gateway   Active   5h15m\r\n",
      "default                 Active   5h58m\r\n",
      "kpack                   Active   5h15m\r\n",
      "kube-node-lease         Active   5h58m\r\n",
      "kube-public             Active   5h58m\r\n",
      "kube-system             Active   5h58m\r\n",
      "metallb-system          Active   5h33m\r\n",
      "pks-system              Active   5h45m\r\n",
      "projectcontour          Active   5h30m\r\n"
     ]
    }
   ],
   "source": [
    "!kubectl get ns"
   ]
  },
  {
   "cell_type": "markdown",
   "metadata": {},
   "source": [
    "#### Create a pbs user from UAA"
   ]
  },
  {
   "cell_type": "code",
   "execution_count": null,
   "metadata": {},
   "outputs": [],
   "source": [
    "!uaac token client get admin -s <PKS Adming Client Secret>"
   ]
  },
  {
   "cell_type": "code",
   "execution_count": null,
   "metadata": {},
   "outputs": [],
   "source": [
    "!uaac user add pbs -p pbs --emails pbs@pivotal.io"
   ]
  },
  {
   "cell_type": "code",
   "execution_count": 66,
   "metadata": {},
   "outputs": [
    {
     "name": "stdout",
     "output_type": "stream",
     "text": [
      "NOTE: Gem::Specification#rubyforge_project= is deprecated with no replacement. It will be removed on or after 2019-12-01.\n",
      "Gem::Specification#rubyforge_project= called from /Library/Ruby/Gems/2.3.0/specifications/cf-uaa-lib-3.13.0.gemspec:16.\n",
      "NOTE: Gem::Specification#rubyforge_project= is deprecated with no replacement. It will be removed on or after 2019-12-01.\n",
      "Gem::Specification#rubyforge_project= called from /Library/Ruby/Gems/2.3.0/specifications/highline-1.7.10.gemspec:20.\n",
      "NOTE: Gem::Specification#rubyforge_project= is deprecated with no replacement. It will be removed on or after 2019-12-01.\n",
      "Gem::Specification#rubyforge_project= called from /Library/Ruby/Gems/2.3.0/specifications/em-http-request-1.1.5.gemspec:16.\n",
      "NOTE: Gem::Specification#rubyforge_project= is deprecated with no replacement. It will be removed on or after 2019-12-01.\n",
      "Gem::Specification#rubyforge_project= called from /Library/Ruby/Gems/2.3.0/specifications/em-socksify-0.3.2.gemspec:16.\n",
      "NOTE: Gem::Specification#rubyforge_project= is deprecated with no replacement. It will be removed on or after 2019-12-01.\n",
      "Gem::Specification#rubyforge_project= called from /Library/Ruby/Gems/2.3.0/specifications/rack-1.6.9.gemspec:19.\n",
      "      value: pbs@pivotal.io\n",
      "    username: pbs\n"
     ]
    }
   ],
   "source": [
    "!uaac users | grep pbs"
   ]
  },
  {
   "cell_type": "code",
   "execution_count": 95,
   "metadata": {},
   "outputs": [
    {
     "name": "stdout",
     "output_type": "stream",
     "text": [
      "NAMESPACE               NAME                    TYPE           CLUSTER-IP       EXTERNAL-IP      PORT(S)                      AGE\r\n",
      "build-service-gateway   build-service-gateway   ClusterIP      10.100.200.113   <none>           80/TCP                       5h15m\r\n",
      "default                 kubernetes              ClusterIP      10.100.200.1     <none>           443/TCP                      5h58m\r\n",
      "kpack                   kpack-webhook           ClusterIP      10.100.200.24    <none>           443/TCP                      5h15m\r\n",
      "kube-system             kube-dns                ClusterIP      10.100.200.2     <none>           53/UDP,53/TCP                5h45m\r\n",
      "kube-system             kubernetes-dashboard    NodePort       10.100.200.51    <none>           443:32034/TCP                5h45m\r\n",
      "kube-system             metrics-server          ClusterIP      10.100.200.72    <none>           443/TCP                      5h45m\r\n",
      "pks-system              fluent-bit              ClusterIP      10.100.200.10    <none>           24224/TCP                    5h45m\r\n",
      "pks-system              kube-state-metrics      ClusterIP      10.100.200.150   <none>           8080/TCP,8081/TCP            5h42m\r\n",
      "pks-system              validator               ClusterIP      10.100.200.88    <none>           443/TCP                      5h45m\r\n",
      "pks-system              wavefront-proxy         ClusterIP      10.100.200.174   <none>           2878/TCP                     5h42m\r\n",
      "projectcontour          contour                 ClusterIP      10.100.200.45    <none>           8001/TCP                     5h30m\r\n",
      "projectcontour          envoy                   LoadBalancer   10.100.200.32    192.168.40.238   80:31955/TCP,443:32139/TCP   5h30m\r\n"
     ]
    }
   ],
   "source": [
    "!kubectl get services --all-namespaces"
   ]
  },
  {
   "cell_type": "markdown",
   "metadata": {},
   "source": [
    "### Verify PBS Installation"
   ]
  },
  {
   "cell_type": "markdown",
   "metadata": {},
   "source": [
    "#### Target the Build Service installation by running: pb api set BUILD-SERVICE-DOMAIN"
   ]
  },
  {
   "cell_type": "code",
   "execution_count": 106,
   "metadata": {},
   "outputs": [
    {
     "name": "stdout",
     "output_type": "stream",
     "text": [
      "\r\n",
      "ERROR: Failed to set Build Service API endpoint: failed to connect to endpoint: https://pbs.lab.digitalkloud.com/v1/info: Get https://pbs.lab.digitalkloud.com/v1/info: dial tcp 192.168.40.238:443: connect: connection refused\r\n",
      "\r\n",
      "Usage:\r\n",
      "  pb api set <api-url> [flags]\r\n",
      "\r\n",
      "Examples:\r\n",
      "pb api set https://build-service.pivotal.io\r\n",
      "\r\n",
      "Flags:\r\n",
      "  -h, --help                  help for set\r\n",
      "      --skip-ssl-validation   skip ssl validation for https connections\r\n",
      "\r\n",
      "\r\n"
     ]
    }
   ],
   "source": [
    "!pb api set https://pbs.lab.digitalkloud.com --skip-ssl-validation"
   ]
  },
  {
   "cell_type": "code",
   "execution_count": 103,
   "metadata": {},
   "outputs": [
    {
     "name": "stdout",
     "output_type": "stream",
     "text": [
      "README.md                               \u001b[1m\u001b[36mimg\u001b[m\u001b[m/\r\n",
      "Tanzu Build Service Installation.ipynb  \u001b[1m\u001b[36msetup\u001b[m\u001b[m/\r\n"
     ]
    }
   ],
   "source": [
    "ls"
   ]
  },
  {
   "cell_type": "code",
   "execution_count": null,
   "metadata": {},
   "outputs": [],
   "source": []
  },
  {
   "cell_type": "markdown",
   "metadata": {},
   "source": [
    "### Test PBS Service"
   ]
  },
  {
   "cell_type": "code",
   "execution_count": null,
   "metadata": {},
   "outputs": [],
   "source": []
  },
  {
   "cell_type": "code",
   "execution_count": null,
   "metadata": {},
   "outputs": [],
   "source": []
  },
  {
   "cell_type": "code",
   "execution_count": null,
   "metadata": {},
   "outputs": [],
   "source": []
  },
  {
   "cell_type": "code",
   "execution_count": null,
   "metadata": {},
   "outputs": [],
   "source": []
  },
  {
   "cell_type": "code",
   "execution_count": null,
   "metadata": {},
   "outputs": [],
   "source": []
  },
  {
   "cell_type": "code",
   "execution_count": null,
   "metadata": {},
   "outputs": [],
   "source": []
  },
  {
   "cell_type": "code",
   "execution_count": null,
   "metadata": {},
   "outputs": [],
   "source": []
  }
 ],
 "metadata": {
  "kernelspec": {
   "display_name": "Python 3",
   "language": "python",
   "name": "python3"
  },
  "language_info": {
   "codemirror_mode": {
    "name": "ipython",
    "version": 3
   },
   "file_extension": ".py",
   "mimetype": "text/x-python",
   "name": "python",
   "nbconvert_exporter": "python",
   "pygments_lexer": "ipython3",
   "version": "3.7.4"
  }
 },
 "nbformat": 4,
 "nbformat_minor": 2
}
