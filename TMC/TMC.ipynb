{
 "cells": [
  {
   "cell_type": "markdown",
   "metadata": {},
   "source": [
    "# Agenda\n",
    "\n",
    "## Create a kubernetes cluster with VMware Enterprise PKS\n",
    "\n",
    "## Attach the cluster to VMware Tanzu Mission Control\n",
    "**Authenticate to the new K8s cluster**\n",
    "\n",
    "**Verify connection to the K8s cluster**\n",
    "\n",
    "## Login to VMware Tanzu Mission Control\n",
    "### Authenticate via tmc CLI\n",
    "### query cluster groups and clusters\n",
    "### Attach K8s cluster to Tanzu Mission Control\n",
    "___"
   ]
  },
  {
   "cell_type": "markdown",
   "metadata": {},
   "source": [
    "## Create PKS Kubernetes Cluster"
   ]
  },
  {
   "cell_type": "markdown",
   "metadata": {},
   "source": [
    "### Authenticate to your PKS API and review existing clusters"
   ]
  },
  {
   "cell_type": "code",
   "execution_count": null,
   "metadata": {},
   "outputs": [],
   "source": [
    "!pks"
   ]
  },
  {
   "cell_type": "code",
   "execution_count": 6,
   "metadata": {},
   "outputs": [
    {
     "name": "stdout",
     "output_type": "stream",
     "text": [
      "/bin/sh: /Users/khan/Downloads/.json: No such file or directory\n",
      "\n",
      "Error: Post https://api.pks..cf-app.com:8443/oauth/token: dial tcp: lookup api.pks..cf-app.com: no such host\n"
     ]
    }
   ],
   "source": [
    "!export TS_G_ENV=poway\n",
    "!export UAA_ADMIN_PASSWORD=$(jq -r < ~/Downloads/$TS_G_ENV.json .pks_api.uaa_admin_password)\n",
    "!pks login -a api.pks.$TS_G_ENV.cf-app.com -u admin -p $UAA_ADMIN_PASSWORD -k"
   ]
  },
  {
   "cell_type": "code",
   "execution_count": 8,
   "metadata": {
    "scrolled": true
   },
   "outputs": [
    {
     "name": "stdout",
     "output_type": "stream",
     "text": [
      "\n",
      "Name                 Plan Name  UUID                                  Status     Action\n",
      "poway-pks-cluster-1  small      32831344-445d-43a4-9502-efa8832a973d  succeeded  CREATE\n",
      "photon-pks           small      bd479180-3e31-4e78-889a-8c20363d360b  succeeded  CREATE\n",
      "\n"
     ]
    }
   ],
   "source": [
    "!pks clusters"
   ]
  },
  {
   "cell_type": "markdown",
   "metadata": {},
   "source": [
    "*Example Output:*"
   ]
  },
  {
   "cell_type": "markdown",
   "metadata": {},
   "source": [
    "```\n",
    "Name        Plan Name  UUID                                  Status     Action\n",
    "test-demo   small      77e8836c-1849-46ed-999c-26be9672bc0e  succeeded  CREATE\n",
    "```"
   ]
  },
  {
   "cell_type": "code",
   "execution_count": null,
   "metadata": {},
   "outputs": [],
   "source": [
    "pks cluster test-demo"
   ]
  },
  {
   "cell_type": "code",
   "execution_count": null,
   "metadata": {},
   "outputs": [],
   "source": [
    "pks plans"
   ]
  },
  {
   "cell_type": "markdown",
   "metadata": {},
   "source": [
    "### Create the PKS cluster"
   ]
  },
  {
   "cell_type": "code",
   "execution_count": null,
   "metadata": {},
   "outputs": [],
   "source": [
    "pks create-cluster"
   ]
  },
  {
   "cell_type": "markdown",
   "metadata": {},
   "source": [
    "### Decision time... "
   ]
  },
  {
   "cell_type": "markdown",
   "metadata": {},
   "source": [
    "Decide now how you will access the master node(s) of the resulting K8s cluster before you continue.\n",
    "\n",
    "In my case, I have a domain us.azure.bekind.io into which I will manually create a DNS entry for a load balancer whose backend points to a pool of master node(s).\n",
    "\n",
    "At the very least, if you specify an IP address in the \"external-hostname,\" you have to have already acquired that public IP address on your cloud provider.  This IP or DNS name should be publically accessible."
   ]
  },
  {
   "cell_type": "code",
   "execution_count": null,
   "metadata": {},
   "outputs": [],
   "source": [
    "!pks create-cluster pa-jkhan-compton --external-hostname mytmc-cluster-pa-jkhan --plan small"
   ]
  },
  {
   "cell_type": "markdown",
   "metadata": {},
   "source": [
    "**Example Output:**\n",
    "```\n",
    "Name:                     test-demo\n",
    "Plan Name:                small\n",
    "UUID:                     7c2f04bc-a66e-4f7b-a9a4-79574bebb470\n",
    "Last Action:              CREATE\n",
    "Last Action State:        in progress\n",
    "Last Action Description:  Creating cluster\n",
    "Kubernetes Master Host:   test.us.azure.bekind.io\n",
    "Kubernetes Master Port:   8443\n",
    "Worker Nodes:             3\n",
    "Kubernetes Master IP(s):  In Progress\n",
    "Network Profile Name:\n",
    "\n",
    "Use 'pks cluster test-azure' to monitor the state of your cluster\n",
    "```"
   ]
  },
  {
   "cell_type": "markdown",
   "metadata": {},
   "source": [
    "Monitor `pks clusters` until the cluster creation is successful"
   ]
  },
  {
   "cell_type": "code",
   "execution_count": 9,
   "metadata": {},
   "outputs": [
    {
     "name": "stdout",
     "output_type": "stream",
     "text": [
      "\n",
      "Name                 Plan Name  UUID                                  Status     Action\n",
      "poway-pks-cluster-1  small      32831344-445d-43a4-9502-efa8832a973d  succeeded  CREATE\n",
      "photon-pks           small      bd479180-3e31-4e78-889a-8c20363d360b  succeeded  CREATE\n",
      "\n"
     ]
    }
   ],
   "source": [
    "!pks clusters"
   ]
  },
  {
   "cell_type": "markdown",
   "metadata": {},
   "source": [
    "Capture the credentials for your new K8s cluster"
   ]
  },
  {
   "cell_type": "code",
   "execution_count": null,
   "metadata": {},
   "outputs": [],
   "source": [
    "!pks get-credentials compton-pks-cluster-1"
   ]
  },
  {
   "cell_type": "markdown",
   "metadata": {},
   "source": [
    "Examine your new cluster"
   ]
  },
  {
   "cell_type": "code",
   "execution_count": null,
   "metadata": {},
   "outputs": [],
   "source": [
    "!kubectl config use-context compton-pks-cluster-1"
   ]
  },
  {
   "cell_type": "code",
   "execution_count": null,
   "metadata": {},
   "outputs": [],
   "source": [
    "!kubectl cluster-info"
   ]
  },
  {
   "cell_type": "code",
   "execution_count": 10,
   "metadata": {},
   "outputs": [
    {
     "name": "stdout",
     "output_type": "stream",
     "text": [
      "NAME                STATUS   AGE\r\n",
      "default             Active   6d23h\r\n",
      "kube-node-lease     Active   6d23h\r\n",
      "kube-public         Active   6d23h\r\n",
      "kube-system         Active   6d23h\r\n",
      "pa-jkhan-ns         Active   6d20h\r\n",
      "pks-system          Active   6d23h\r\n",
      "vmware-system-tmc   Active   6d21h\r\n"
     ]
    }
   ],
   "source": [
    "!kubectl get namespaces"
   ]
  },
  {
   "cell_type": "markdown",
   "metadata": {},
   "source": [
    "# Attach the cluster to Tanzu Mission Control"
   ]
  },
  {
   "cell_type": "markdown",
   "metadata": {},
   "source": [
    "Login to TMC via https://console.cloud.vmware.com"
   ]
  },
  {
   "cell_type": "markdown",
   "metadata": {},
   "source": [
    "Download the TMC CLI, make it executable, and move it into your system path"
   ]
  },
  {
   "cell_type": "markdown",
   "metadata": {},
   "source": [
    "*Cluster names and environment variables*"
   ]
  },
  {
   "cell_type": "code",
   "execution_count": null,
   "metadata": {},
   "outputs": [],
   "source": [
    "!export TMC_CLUSTER_GROUP=pa-jkhan-poway\n",
    "!export TMC_CLUSTER=pa-jkhan-poway"
   ]
  },
  {
   "cell_type": "code",
   "execution_count": null,
   "metadata": {},
   "outputs": [],
   "source": [
    "!tmc"
   ]
  },
  {
   "cell_type": "code",
   "execution_count": 4,
   "metadata": {},
   "outputs": [
    {
     "name": "stdout",
     "output_type": "stream",
     "text": [
      "\u001b[2mℹ\u001b[0m To fetch an API token visit https://console.cloud.vmware.com/csp/gateway/portal/#/user/tokens \n",
      "\u001b[1m\u001b[32m✔\u001b[0m \u001b[1mAPI token\u001b[0m\u001b[1m:\u001b[0m █\n",
      "\u001b[2K\u001b[2K\n",
      "\u001b[?25hError: ^C\n",
      "Usage:\n",
      "  tmc login [flags]\n",
      "  tmc login [action]\n",
      "\n",
      "Examples:\n",
      "  # Interactive login.\n",
      "  tmc login\n",
      "\n",
      "  # Environment variable login (note: set $API_TOKEN beforehand)\n",
      "  tmc login --name <context name>\n",
      "  \n",
      "  # Only login, no default environemnt configuration.\n",
      "  tmc login --no-configure\n",
      "  \n",
      "  # Switch login contexts.\n",
      "  tmc login switch\n",
      "\n",
      "Actions:\n",
      "  switch      Switch login to another existing context\n",
      "\n",
      "Flags:\n",
      "  -h, --help           help for login\n",
      "  -n, --name string    name for the login context, will be generated if not provided\n",
      "  -c, --no-configure   just login, do not configure the environment\n",
      "\n",
      "Use \"tmc login [command] --help\" for more information about a command.\n",
      "\n",
      "\u001b[31m✗\u001b[0m ^C \n"
     ]
    }
   ],
   "source": [
    "!tmc login --name jkhan --no-configure"
   ]
  },
  {
   "cell_type": "markdown",
   "metadata": {},
   "source": [
    "**Example Output:**\n",
    "```\n",
    "ℹ To fetch an API token visit https://console.cloud.vmware.com/csp/gateway/portal/#/user/tokens\n",
    "API token****************************************************************\n",
    "Login context name  VMW_W1\n",
    "? Select default log level info\n",
    "? Select default credential tmc-workshop\n",
    "? Select default region us-east-1\n",
    "? Select default AWS SSH key bjung@vmware.com\n",
    "✔ Successfully created context \"VMW_W1\", to manage your contexts run `tmc system context -h`\n",
    "```"
   ]
  },
  {
   "cell_type": "code",
   "execution_count": 11,
   "metadata": {},
   "outputs": [
    {
     "name": "stdout",
     "output_type": "stream",
     "text": [
      "  NAME                      LABELS                       \r\n",
      "  akadari                   origin:akadari               \r\n",
      "  area51                    origin:atari                 \r\n",
      "  arul-tmc                                               \r\n",
      "  astroids                  origin:atari                 \r\n",
      "  avannala                                               \r\n",
      "  bboe                                                   \r\n",
      "  bragazzi-pa-pks                                        \r\n",
      "  caas-workshop             team:dell-tech               \r\n",
      "  cdelashmutt                                            \r\n",
      "  centipede                 origin:atari                 \r\n",
      "  cormaster                                              \r\n",
      "  cyberball                 origin:atari                 \r\n",
      "  dambor                    name:gborges                 \r\n",
      "  default                                                \r\n",
      "  demo-cluster-group                                     \r\n",
      "  devnexus2020                                           \r\n",
      "  dfleming                                               \r\n",
      "  dragon-lair               origin:cinematronics         \r\n",
      "  droberts                                               \r\n",
      "  fintech                                                \r\n",
      "  frogger                   origin:konami                \r\n",
      "  galaga                    origin:namco                 \r\n",
      "  guitar-hero               origin:activision            \r\n",
      "  heisenberg                                             \r\n",
      "  homelabs                  origin:timmers               \r\n",
      "  hyrule                    origin:nintendo              \r\n",
      "  jamesmus                                               \r\n",
      "  jmo                       owner:jason                  \r\n",
      "  joust                     origin:nintendo              \r\n",
      "  kirklab                   origin:bkirkland             \r\n",
      "  lb-workshop                                            \r\n",
      "  lsilva                                                 \r\n",
      "  mario-brothers            origin:nintendo              \r\n",
      "  mds-demo                  owner:mds                    \r\n",
      "  metroid                                                \r\n",
      "  navy-demo                 team:federal                 \r\n",
      "  pa-arao                                                \r\n",
      "  pa-bhenzelmann            origin:bhenzelmann           \r\n",
      "  pacchia                                                \r\n",
      "  pa-chjohnson-cg           origin:chjohnson             \r\n",
      "  pac-man                   origin:namco                 \r\n",
      "  pa-dpfeffer-cg            origin:dpfeffer              \r\n",
      "  pa-dpfeffer-dev-cg        origin:dpfeffer              \r\n",
      "  pa-jkhan-cg                                            \r\n",
      "  pa-jkhan-compton                                       \r\n",
      "  pa-jsheth-cg              origin:pa-jsheth             \r\n",
      "  pa-kgogineni-group                                     \r\n",
      "  pa-koundinya-clusters                                  \r\n",
      "  pa-kschuck-cg                                          \r\n",
      "  pa-mmcnichol                                           \r\n",
      "  pa-njethnani                                           \r\n",
      "  pa-nthomson                                            \r\n",
      "  pa-qwan-cg                origin:qwan                  \r\n",
      "  pa-rmauge                                              \r\n",
      "  pas-cluster-group                                      \r\n",
      "  pa-shashmi-cg                                          \r\n",
      "  pgottam-cg                                             \r\n",
      "  phoenix                   origin:atari                 \r\n",
      "  pong                      origin:atari                 \r\n",
      "  pupperi-group                                          \r\n",
      "  pwc                                                    \r\n",
      "  rccl                      name:rccl type:clustergroup  \r\n",
      "  ridge-racer               origin:namco                 \r\n",
      "  space-invaders            origin:nintendo              \r\n",
      "  ssherwood-cg              origin:pa-ssherwood          \r\n",
      "  star-castle               origin:cinematronics         \r\n",
      "  stargate                  origin:atari                 \r\n",
      "  starwars                                               \r\n",
      "  star-wars                 origin:atari                 \r\n",
      "  stores-aws                                             \r\n",
      "  stores-azure                                           \r\n",
      "  stores-google                                          \r\n",
      "  stores-vsphere                                         \r\n",
      "  tempest                   origin:atari                 \r\n",
      "  tez                                                    \r\n",
      "  vanguard                  origin:snk                   \r\n",
      "  vinay-clustergroup                                     \r\n",
      "  warroyo                                                \r\n",
      "  wrightcode                                             \r\n",
      "  ykhadilkar-cluster-group  user:ykhadilkar              \r\n",
      "  zelda                                                  \r\n",
      "  zwickey                                                \r\n"
     ]
    }
   ],
   "source": [
    "!tmc clustergroup list"
   ]
  },
  {
   "cell_type": "markdown",
   "metadata": {},
   "source": [
    "Notice above the cluster group \"cg-jbrightwell\" does not exist"
   ]
  },
  {
   "cell_type": "code",
   "execution_count": 4,
   "metadata": {},
   "outputs": [
    {
     "name": "stdout",
     "output_type": "stream",
     "text": [
      "  NAME                           CLUSTERGROUP           PROVIDER        STATE     HEALTH        LABELS                                                 \n",
      "  allure                         rccl                   UNKNOWN         PENDING   NA            tmc.cloud.vmware.com/creator:makrishna                 \n",
      "  arao-kind                      pa-arao                UNKNOWN         PENDING   NA            tmc.cloud.vmware.com/creator:arao_pivotal.io           \n",
      "  aro-tmc-cluster-1              pa-arao                AWS_EC2         UNKNOWN   DISCONNECTED  tmc.cloud.vmware.com/creator:arao_pivotal.io           \n",
      "  arul-aws-east-prod             arul-tmc               AWS_EC2         UNKNOWN   DISCONNECTED  tmc.cloud.vmware.com/creator:avannala_pivotal.io       \n",
      "  arul-azure-prod                arul-tmc               AZURE_COMPUTE   READY     UNHEALTHY     tmc.cloud.vmware.com/creator:avannala_pivotal.io       \n",
      "  arul-gcp-central-prod          arul-tmc               GCP_GCE         UNKNOWN   DISCONNECTED  tmc.cloud.vmware.com/creator:avannala_pivotal.io       \n",
      "  arul-gcp-prod                  arul-tmc               GCP_GCE         UNKNOWN   DISCONNECTED  tmc.cloud.vmware.com/creator:avannala_pivotal.io       \n",
      "  arul-gke-prod                  arul-tmc               GCP_GCE         UNKNOWN   DISCONNECTED  tmc.cloud.vmware.com/creator:avannala_pivotal.io       \n",
      "  arul-greenplum-prod            arul-tmc               GCP_GCE         UNKNOWN   DISCONNECTED  tmc.cloud.vmware.com/creator:avannala_pivotal.io       \n",
      "  arul-prod                      arul-tmc               AWS_EC2         UNKNOWN   DISCONNECTED  tmc.cloud.vmware.com/creator:avannala_pivotal.io       \n",
      "  asgardpks-concourse            pa-njethnani           VMWARE_VSPHERE  READY     HEALTHY       tmc.cloud.vmware.com/creator:njethnani_pivotal.io      \n",
      "  asgardpks-demo1                pa-njethnani           VMWARE_VSPHERE  READY     HEALTHY       tmc.cloud.vmware.com/creator:njethnani_pivotal.io      \n",
      "  az-uno                         pa-arao                AZURE_COMPUTE   READY     UNHEALTHY     tmc.cloud.vmware.com/creator:arao_pivotal.io           \n",
      "  azure-k8-steve-0               caas-workshop          UNKNOWN         PENDING   NA            cloud:azure                                            \n",
      "                                                                                                tmc.cloud.vmware.com/creator:swatkins_pivotal.io       \n",
      "  bboe-k8s1                      bboe                   VMWARE_VSPHERE  UNKNOWN   DISCONNECTED  tmc.cloud.vmware.com/creator:bboe_pivotal.io           \n",
      "  blp                            hyrule                 AWS_EC2         READY     HEALTHY       tmc.cloud.vmware.com/creator:jaguilar_pivotal.io       \n",
      "  bon-nyc                        heisenberg             VMWARE_VSPHERE  UNKNOWN   DISCONNECTED  tmc.cloud.vmware.com/creator:bsethi_pivotal.io         \n",
      "  cdelashmutt-platform-services  cdelashmutt            VMWARE_VSPHERE  READY     HEALTHY       tmc.cloud.vmware.com/creator:cdelashmutt_pivotal.io    \n",
      "  cdelashmutt-workloads          cdelashmutt            VMWARE_VSPHERE  READY     HEALTHY       tmc.cloud.vmware.com/creator:cdelashmutt_pivotal.io    \n",
      "  chjohnson-demo                 pa-chjohnson-cg        AWS_EC2         READY     HEALTHY       tmc.cloud.vmware.com/creator:johnsonch                 \n",
      "  chjohnson-gcp-demo             pa-chjohnson-cg        GCP_GCE         READY     HEALTHY       tmc.cloud.vmware.com/creator:johnsonch                 \n",
      "  cluster1                       cormaster              VMWARE_VSPHERE  UNKNOWN   DISCONNECTED  tmc.cloud.vmware.com/creator:cjett_pivotal.io          \n",
      "  consumer-dev-cdc               pa-kgogineni-group     VMWARE_VSPHERE  UNKNOWN   DISCONNECTED  tmc.cloud.vmware.com/creator:kgogineni                 \n",
      "  consumer-dev-eks               pa-kgogineni-group     AWS_EC2         READY     HEALTHY       tmc.cloud.vmware.com/creator:kgogineni                 \n",
      "  consumer-dev-pa                pa-kgogineni-group     VMWARE_VSPHERE  READY     HEALTHY       tmc.cloud.vmware.com/creator:kgogineni                 \n",
      "  cpage-lab                      homelabs               VMWARE_VSPHERE  READY     HEALTHY       tmc.cloud.vmware.com/creator:cpage_pivotal.io          \n",
      "  dallas                         caas-workshop          VMWARE_VSPHERE  READY     HEALTHY       env:caas                                               \n",
      "                                                                                                tmc.cloud.vmware.com/creator:swatkins_pivotal.io       \n",
      "  deathstar                      pa-dpfeffer-dev-cg     OPENSHIFT       UNKNOWN   DISCONNECTED  tmc.cloud.vmware.com/creator:dpfeffer_pivotal.io       \n",
      "  demo                           avannala               UNKNOWN         CREATING  NA            tmc.cloud.vmware.com/creator:avannala_pivotal.io       \n",
      "  demo-cluster                   astroids               AWS_EC2         UNKNOWN   DISCONNECTED  tmc.cloud.vmware.com/creator:nverma_pivotal.io         \n",
      "  demo-will                      warroyo                AWS_EC2         READY     WARNING       tmc.cloud.vmware.com/creator:warroyo_pivotal.io        \n",
      "  devnexus-cluster01             devnexus2020           VMWARE_VSPHERE  UNKNOWN   DISCONNECTED  tmc.cloud.vmware.com/creator:cdelashmutt_pivotal.io    \n",
      "  devone-ocp                     pa-koundinya-clusters  OPENSHIFT       READY     UNHEALTHY     tmc.cloud.vmware.com/creator:ksrinivasarao_pivotal.io  \n",
      "  digital-dev                    pa-koundinya-clusters  AWS_EC2         UNKNOWN   DISCONNECTED  env-type:dev iaas:aws                                  \n",
      "                                                                                                tmc.cloud.vmware.com/creator:ksrinivasarao_pivotal.io  \n",
      "  digital-prod1-aws              pa-koundinya-clusters  AWS_EC2         UNKNOWN   DISCONNECTED  env-type:prod iaas:aws region:us-east-1                \n",
      "                                                                                                tmc.cloud.vmware.com/creator:ksrinivasarao_pivotal.io  \n",
      "  digital-prod2-aws              pa-koundinya-clusters  AWS_EC2         UNKNOWN   DISCONNECTED  env-type:prod iaas:aws region:us-east-1                \n",
      "                                                                                                tmc.cloud.vmware.com/creator:ksrinivasarao_pivotal.io  \n",
      "  ew-cluster                     tez                    UNKNOWN         PENDING   NA            tmc.cloud.vmware.com/creator:mkillens                  \n",
      "  gcp-gitlab                     dfleming               GCP_GCE         READY     HEALTHY       tmc.cloud.vmware.com/creator:jfleming_pivotal.io       \n",
      "  gke-kpack-demo                 default                GCP_GCE         UNKNOWN   DISCONNECTED  tmc.cloud.vmware.com/creator:papicella_pivotal.io      \n",
      "  gke-page                       centipede              GCP_GCE         READY     HEALTHY       Iaas:GCP                                               \n",
      "                                                                                                tmc.cloud.vmware.com/creator:cpage_pivotal.io          \n",
      "  insurance-pks-lsilva           lsilva                 VMWARE_VSPHERE  READY     HEALTHY       tmc.cloud.vmware.com/creator:lsilva_pivotal.io         \n",
      "  iqor-cluster-2                 pa-rmauge              GCP_GCE         UNKNOWN   DISCONNECTED  tmc.cloud.vmware.com/creator:rmauge                    \n",
      "  k8s-gcp-toolsmith              pupperi-group          GCP_GCE         UNKNOWN   DISCONNECTED  tmc.cloud.vmware.com/creator:pupperi_pivotal.io        \n",
      "  kafka-demo                     tempest                AWS_EC2         UNKNOWN   DISCONNECTED  tmc.cloud.vmware.com/creator:jwilliams_pivotal.io      \n",
      "  kalos                          pacchia                VMWARE_VSPHERE  UNKNOWN   DISCONNECTED  ias:vsphere loc:home                                   \n",
      "                                                                                                tmc.cloud.vmware.com/creator:mbrodi_pivotal.io         \n",
      "  kind-kind                      pa-kgogineni-group     UNKNOWN         UNKNOWN   DISCONNECTED  tmc.cloud.vmware.com/creator:kgogineni                 \n",
      "  knative                        default                AWS_EC2         UNKNOWN   DISCONNECTED  tmc.cloud.vmware.com/creator:gborges_pivotal.io        \n",
      "  kpack-demo                     jamesmus               VMWARE_VSPHERE  READY     HEALTHY       tmc.cloud.vmware.com/creator:jmusselwhite_pivotal.io   \n",
      "  kschuck-aws                    pa-kschuck-cg          AWS_EC2         READY     HEALTHY       tmc.cloud.vmware.com/creator:kschuck_pivotal.io        \n",
      "  lb-workshop-large              lb-workshop            GCP_GCE         UNKNOWN   DISCONNECTED  lb-workshop-cluster:rmeira                             \n",
      "                                                                                                tmc.cloud.vmware.com/creator:rmeira_pivotal.io         \n",
      "  lkh                            default                UNKNOWN         PENDING   NA            tmc.cloud.vmware.com/creator:rarni_pivotal.io          \n",
      "  loving-goldwasser1             default                UNKNOWN         PENDING   NA            tmc.cloud.vmware.com/creator:nverma_pivotal.io         \n",
      "  manul                          default                UNKNOWN         PENDING   NA            tmc.cloud.vmware.com/creator:rarni_pivotal.io          \n",
      "  mcnichol-demo                  guitar-hero            AWS_EC2         READY     HEALTHY       tmc.cloud.vmware.com/creator:mmcnichol_pivotal.io      \n",
      "  mortgage                       lsilva                 VMWARE_VSPHERE  READY     HEALTHY       tmc.cloud.vmware.com/creator:lsilva_pivotal.io         \n",
      "  msathe-psp-cluster             starwars               UNKNOWN         PENDING   NA            tmc.cloud.vmware.com/creator:msathe_pivotal.io         \n",
      "                                                                                                user:msathe                                            \n",
      "  nthomson-demo3                 pa-nthomson            AWS_EC2         READY     HEALTHY       created_by:Terraform                                   \n",
      "                                                                                                tmc.cloud.vmware.com/creator:nthomson_pivotal.io       \n",
      "  pa-dpfeffer-casterlyrock       pa-dpfeffer-cg         VMWARE_VSPHERE  READY     HEALTHY       origin:dpfeffer                                        \n",
      "                                                                                                tmc.cloud.vmware.com/creator:dpfeffer_pivotal.io       \n",
      "  pa-dpfeffer-kingslanding       pa-dpfeffer-cg         VMWARE_VSPHERE  READY     HEALTHY       tmc.cloud.vmware.com/creator:dpfeffer_pivotal.io       \n",
      "  pa-dpfeffer-riverrun           pa-dpfeffer-dev-cg     VMWARE_VSPHERE  READY     HEALTHY       origin:dpfeffer                                        \n",
      "                                                                                                tmc.cloud.vmware.com/creator:dpfeffer_pivotal.io       \n",
      "  pa-dpfeffer-stormsend          pa-dpfeffer-dev-cg     VMWARE_VSPHERE  READY     HEALTHY       origin:dpfeffer                                        \n",
      "                                                                                                tmc.cloud.vmware.com/creator:dpfeffer_pivotal.io       \n",
      "  pa-jkhan-gke                   pa-jkhan-cg            GCP_GCE         READY     HEALTHY       tmc.cloud.vmware.com/creator:jkhan_pivotal.io          \n",
      "  pa-jkhan-poway                 pa-jkhan-cg            GCP_GCE         READY     HEALTHY       tmc.cloud.vmware.com/creator:jkhan_pivotal.io          \n",
      "  pa-kgogineni-cluster2          pa-kgogineni-group     AWS_EC2         READY     HEALTHY       tmc.cloud.vmware.com/creator:kgogineni                 \n",
      "  pas-live-cf4k8s                default                VMWARE_VSPHERE  READY     HEALTHY       tmc.cloud.vmware.com/creator:papicella_pivotal.io      \n",
      "  pas-pks-apples                 default                VMWARE_VSPHERE  READY     HEALTHY       tmc.cloud.vmware.com/creator:papicella_pivotal.io      \n",
      "  pas-pks-pears                  default                VMWARE_VSPHERE  READY     HEALTHY       tmc.cloud.vmware.com/creator:papicella_pivotal.io      \n",
      "  pas-tas4k8s                    default                VMWARE_VSPHERE  READY     HEALTHY       tmc.cloud.vmware.com/creator:papicella_pivotal.io      \n",
      "  pensive-hypatia2               default                UNKNOWN         CREATING  NA            tmc.cloud.vmware.com/creator:praghavendran_pivotal.io  \n",
      "  pgottam-aws-tkg                pgottam-cg             AWS_EC2         UNKNOWN   DISCONNECTED  tmc.cloud.vmware.com/creator:pgottam_pivotal.io        \n",
      "  pksaws1                        hyrule                 AWS_EC2         READY     HEALTHY       tmc.cloud.vmware.com/creator:jaguilar_pivotal.io       \n",
      "  pks-consumer-dev-cdc           pa-koundinya-clusters  VMWARE_VSPHERE  READY     HEALTHY       tmc.cloud.vmware.com/creator:ksrinivasarao_pivotal.io  \n",
      "  pks-consumer-dev-il            pa-koundinya-clusters  VMWARE_VSPHERE  READY     HEALTHY       tmc.cloud.vmware.com/creator:ksrinivasarao_pivotal.io  \n",
      "  pks-democluster                pa-jsheth-cg           AWS_EC2         UNKNOWN   DISCONNECTED  tmc.cloud.vmware.com/creator:jsheth_pivotal.io         \n",
      "  pks-democluster1               pa-jsheth-cg           AWS_EC2         UNKNOWN   DISCONNECTED  tmc.cloud.vmware.com/creator:jsheth_pivotal.io         \n",
      "  pks-democluster2               pa-jsheth-cg           AZURE_COMPUTE   UNKNOWN   DISCONNECTED  origin:pa-jsheth                                       \n",
      "                                                                                                tmc.cloud.vmware.com/creator:jsheth_pivotal.io         \n",
      "  pks-demoge-test-cluster        pgottam-cg             VMWARE_VSPHERE  READY     HEALTHY       tmc.cloud.vmware.com/creator:pgottam_pivotal.io        \n",
      "  pks-demotest2c                 pgottam-cg             VMWARE_VSPHERE  READY     HEALTHY       tmc.cloud.vmware.com/creator:pgottam_pivotal.io        \n",
      "  pks-demotmccheck               pgottam-cg             VMWARE_VSPHERE  READY     HEALTHY       tmc.cloud.vmware.com/creator:pgottam_pivotal.io        \n",
      "  pks-nevadacity-pks-cluster-1   astroids               GCP_GCE         READY     HEALTHY       tmc.cloud.vmware.com/creator:nverma_pivotal.io         \n",
      "  pks-nevadacity-pks-cluster-2   astroids               GCP_GCE         READY     HEALTHY       tmc.cloud.vmware.com/creator:nverma_pivotal.io         \n",
      "  pks-sh-lab-cluster             pa-shashmi-cg          VMWARE_VSPHERE  READY     HEALTHY       tmc.cloud.vmware.com/creator:shashmi_pivotal.io        \n",
      "  poc                            lb-workshop            GCP_GCE         UNKNOWN   DISCONNECTED  tmc.cloud.vmware.com/creator:rmeira_pivotal.io         \n",
      "  porthueneme-pks-cluster-1      starwars               GCP_GCE         UNKNOWN   DISCONNECTED  tmc.cloud.vmware.com/creator:msathe_pivotal.io         \n",
      "  praveengcp                     pgottam-cg             GCP_GCE         DELETING  DISCONNECTED  tmc.cloud.vmware.com/creator:pgottam_pivotal.io        \n",
      "  prod1                          jmo                    AWS_EC2         READY     HEALTHY       tmc.cloud.vmware.com/creator:jmorgan_pivotal.io        \n",
      "  projectx                       caas-workshop          VMWARE_VSPHERE  READY     HEALTHY       env:dev iaas:vsphere                                   \n",
      "                                                                                                tmc.cloud.vmware.com/creator:swatkins_pivotal.io       \n",
      "  sandcity-pks-cluster-1         pa-arao                GCP_GCE         UNKNOWN   DISCONNECTED  tmc.cloud.vmware.com/creator:arao_pivotal.io           \n",
      "  test                           cdelashmutt            UNKNOWN         PENDING   NA            tmc.cloud.vmware.com/creator:cdelashmutt_pivotal.io    \n",
      "  theice-sandbox                 pa-qwan-cg             AWS_EC2         READY     HEALTHY       tmc.cloud.vmware.com/creator:qwan_pivotal.io           \n",
      "  tibanna                        kirklab                VMWARE_VSPHERE  READY     HEALTHY       origin:bkirkland                                       \n",
      "                                                                                                tmc.cloud.vmware.com/creator:bkirkland_pivotal.io      \n",
      "  tinker                         jamesmus               VMWARE_VSPHERE  READY     HEALTHY       tmc.cloud.vmware.com/creator:jmusselwhite_pivotal.io   \n",
      "  tinker2                        jamesmus               VMWARE_VSPHERE  READY     HEALTHY       tmc.cloud.vmware.com/creator:jmusselwhite_pivotal.io   \n",
      "  tmc-demo-vsphere               navy-demo              VMWARE_VSPHERE  READY     NA            team:federal                                           \n",
      "                                                                                                tmc.cloud.vmware.com/creator:jbergfeld_pivotal.io      \n",
      "  workshop1                      caas-workshop          VMWARE_VSPHERE  READY     HEALTHY       env:dev iaas:vsphere                                   \n",
      "                                                                                                tmc.cloud.vmware.com/creator:swatkins_pivotal.io       \n",
      "  zwickey-demo                   zwickey                GCP_GCE         UNKNOWN   DISCONNECTED  tmc.cloud.vmware.com/creator:azwickey_pivotal.io       \n"
     ]
    }
   ],
   "source": [
    "!tmc cluster list"
   ]
  },
  {
   "cell_type": "markdown",
   "metadata": {},
   "source": [
    "Notice above the cluster \"jbrightwell-c04\" does not exist"
   ]
  },
  {
   "cell_type": "code",
   "execution_count": 5,
   "metadata": {},
   "outputs": [
    {
     "name": "stdout",
     "output_type": "stream",
     "text": [
      "  NAME         DESCRIPTION                                            \r\n",
      "  default-iam  default template for the iam-policy resource           \r\n",
      "  generated    generated full template for the ClusterGroup resource  \r\n",
      "  default      A default ClusterGroup object.                         \r\n"
     ]
    }
   ],
   "source": [
    "!tmc clustergroup templates list"
   ]
  },
  {
   "cell_type": "markdown",
   "metadata": {},
   "source": [
    "## Create a new cluster group if desired"
   ]
  },
  {
   "cell_type": "code",
   "execution_count": 13,
   "metadata": {},
   "outputs": [
    {
     "name": "stdout",
     "output_type": "stream",
     "text": [
      "\u001b[2mℹ\u001b[0m using template \"default\"\n",
      "\u001b[32m✔\u001b[0m clustergroup \"pa-jkhan-aeo\" created successfully \n"
     ]
    }
   ],
   "source": [
    "!tmc clustergroup create -n pa-jkhan-aeo -t default"
   ]
  },
  {
   "cell_type": "code",
   "execution_count": 14,
   "metadata": {},
   "outputs": [
    {
     "name": "stdout",
     "output_type": "stream",
     "text": [
      "  NAME                      LABELS                       \r\n",
      "  akadari                   origin:akadari               \r\n",
      "  area51                    origin:atari                 \r\n",
      "  arul-tmc                                               \r\n",
      "  astroids                  origin:atari                 \r\n",
      "  avannala                                               \r\n",
      "  bboe                                                   \r\n",
      "  bragazzi-pa-pks                                        \r\n",
      "  caas-workshop             team:dell-tech               \r\n",
      "  cdelashmutt                                            \r\n",
      "  centipede                 origin:atari                 \r\n",
      "  cormaster                                              \r\n",
      "  cyberball                 origin:atari                 \r\n",
      "  dambor                    name:gborges                 \r\n",
      "  default                                                \r\n",
      "  demo-cluster-group                                     \r\n",
      "  devnexus2020                                           \r\n",
      "  dfleming                                               \r\n",
      "  dragon-lair               origin:cinematronics         \r\n",
      "  droberts                                               \r\n",
      "  fintech                                                \r\n",
      "  frogger                   origin:konami                \r\n",
      "  galaga                    origin:namco                 \r\n",
      "  guitar-hero               origin:activision            \r\n",
      "  heisenberg                                             \r\n",
      "  homelabs                  origin:timmers               \r\n",
      "  hyrule                    origin:nintendo              \r\n",
      "  jamesmus                                               \r\n",
      "  jmo                       owner:jason                  \r\n",
      "  joust                     origin:nintendo              \r\n",
      "  kirklab                   origin:bkirkland             \r\n",
      "  lb-workshop                                            \r\n",
      "  lsilva                                                 \r\n",
      "  mario-brothers            origin:nintendo              \r\n",
      "  mds-demo                  owner:mds                    \r\n",
      "  metroid                                                \r\n",
      "  navy-demo                 team:federal                 \r\n",
      "  pa-arao                                                \r\n",
      "  pa-bhenzelmann            origin:bhenzelmann           \r\n",
      "  pacchia                                                \r\n",
      "  pa-chjohnson-cg           origin:chjohnson             \r\n",
      "  pac-man                   origin:namco                 \r\n",
      "  pa-dpfeffer-cg            origin:dpfeffer              \r\n",
      "  pa-dpfeffer-dev-cg        origin:dpfeffer              \r\n",
      "  pa-jkhan-aeo                                           \r\n",
      "  pa-jkhan-cg                                            \r\n",
      "  pa-jkhan-compton                                       \r\n",
      "  pa-jsheth-cg              origin:pa-jsheth             \r\n",
      "  pa-kgogineni-group                                     \r\n",
      "  pa-koundinya-clusters                                  \r\n",
      "  pa-kschuck-cg                                          \r\n",
      "  pa-mmcnichol                                           \r\n",
      "  pa-njethnani                                           \r\n",
      "  pa-nthomson                                            \r\n",
      "  pa-qwan-cg                origin:qwan                  \r\n",
      "  pa-rmauge                                              \r\n",
      "  pas-cluster-group                                      \r\n",
      "  pa-shashmi-cg                                          \r\n",
      "  pgottam-cg                                             \r\n",
      "  phoenix                   origin:atari                 \r\n",
      "  pong                      origin:atari                 \r\n",
      "  pupperi-group                                          \r\n",
      "  pwc                                                    \r\n",
      "  rccl                      name:rccl type:clustergroup  \r\n",
      "  ridge-racer               origin:namco                 \r\n",
      "  space-invaders            origin:nintendo              \r\n",
      "  ssherwood-cg              origin:pa-ssherwood          \r\n",
      "  star-castle               origin:cinematronics         \r\n",
      "  stargate                  origin:atari                 \r\n",
      "  starwars                                               \r\n",
      "  star-wars                 origin:atari                 \r\n",
      "  stores-aws                                             \r\n",
      "  stores-azure                                           \r\n",
      "  stores-google                                          \r\n",
      "  stores-vsphere                                         \r\n",
      "  tempest                   origin:atari                 \r\n",
      "  tez                                                    \r\n",
      "  vanguard                  origin:snk                   \r\n",
      "  vinay-clustergroup                                     \r\n",
      "  warroyo                                                \r\n",
      "  wrightcode                                             \r\n",
      "  ykhadilkar-cluster-group  user:ykhadilkar              \r\n",
      "  zelda                                                  \r\n",
      "  zwickey                                                \r\n"
     ]
    }
   ],
   "source": [
    "!tmc clustergroup list"
   ]
  },
  {
   "cell_type": "markdown",
   "metadata": {},
   "source": [
    "## Attach the PKS cluster into the new Cluster Group"
   ]
  },
  {
   "cell_type": "code",
   "execution_count": 15,
   "metadata": {},
   "outputs": [
    {
     "name": "stdout",
     "output_type": "stream",
     "text": [
      "\u001b[32m✔\u001b[0m cluster \"poway-pks-cluster-1\" created successfully \n",
      "\u001b[2mℹ\u001b[0m Run `kubectl apply -f k8s-attach-manifest.yaml` to attach the cluster\n"
     ]
    }
   ],
   "source": [
    "!tmc cluster attach -g pa-jkhan-aeo -n poway-pks-cluster-1"
   ]
  },
  {
   "cell_type": "code",
   "execution_count": 16,
   "metadata": {},
   "outputs": [
    {
     "name": "stdout",
     "output_type": "stream",
     "text": [
      "namespace/vmware-system-tmc unchanged\n",
      "configmap/stack-config configured\n",
      "Warning: kubectl apply should be used on resource created by either kubectl create --save-config or kubectl apply\n",
      "secret/tmc-client-secret configured\n",
      "customresourcedefinition.apiextensions.k8s.io/agents.clusters.tmc.cloud.vmware.com configured\n",
      "customresourcedefinition.apiextensions.k8s.io/extensions.clusters.tmc.cloud.vmware.com configured\n",
      "serviceaccount/extension-manager configured\n",
      "clusterrole.rbac.authorization.k8s.io/extension-manager-role configured\n",
      "clusterrolebinding.rbac.authorization.k8s.io/extension-manager-rolebinding configured\n",
      "service/extension-manager-service configured\n",
      "deployment.apps/extension-manager configured\n",
      "serviceaccount/extension-updater-serviceaccount configured\n",
      "clusterrole.rbac.authorization.k8s.io/extension-updater-clusterrole configured\n",
      "clusterrolebinding.rbac.authorization.k8s.io/extension-updater-clusterrolebinding configured\n",
      "service/extension-updater configured\n",
      "deployment.apps/extension-updater configured\n",
      "serviceaccount/agent-updater configured\n",
      "clusterrole.rbac.authorization.k8s.io/agent-updater-role configured\n",
      "clusterrolebinding.rbac.authorization.k8s.io/agent-updater-rolebinding configured\n",
      "deployment.apps/agent-updater configured\n",
      "cronjob.batch/agentupdater-workload configured\n"
     ]
    }
   ],
   "source": [
    "!kubectl apply -f k8s-attach-manifest.yaml"
   ]
  },
  {
   "cell_type": "code",
   "execution_count": 17,
   "metadata": {},
   "outputs": [
    {
     "name": "stdout",
     "output_type": "stream",
     "text": [
      "NAME                STATUS   AGE\r\n",
      "default             Active   6d23h\r\n",
      "kube-node-lease     Active   6d23h\r\n",
      "kube-public         Active   6d23h\r\n",
      "kube-system         Active   6d23h\r\n",
      "pa-jkhan-ns         Active   6d20h\r\n",
      "pks-system          Active   6d23h\r\n",
      "vmware-system-tmc   Active   6d21h\r\n"
     ]
    }
   ],
   "source": [
    "!kubectl get namespaces"
   ]
  },
  {
   "cell_type": "markdown",
   "metadata": {},
   "source": [
    "Notice the \"vmware-system-tmc\" namespace has been created."
   ]
  },
  {
   "cell_type": "code",
   "execution_count": 18,
   "metadata": {
    "scrolled": true
   },
   "outputs": [
    {
     "name": "stdout",
     "output_type": "stream",
     "text": [
      "NAME                                           READY   STATUS      RESTARTS   AGE\r\n",
      "pod/agent-updater-7b47bd5d65-hwjs5             1/1     Running     0          6d4h\r\n",
      "pod/agentupdater-workload-1584310440-5hmmk     0/1     Completed   0          40s\r\n",
      "pod/cluster-health-extension-6999fbdff-gp77v   1/1     Running     0          6d4h\r\n",
      "pod/data-protection-5b94df79f4-5ckcd           1/1     Running     0          6d21h\r\n",
      "pod/extension-manager-77c5bb9f89-rb45d         1/1     Running     0          6d4h\r\n",
      "pod/extension-updater-8b464c8cf-6vbhg          1/1     Running     0          6d21h\r\n",
      "pod/inspection-extension-6dbd8674fb-8xv99      1/1     Running     0          6d4h\r\n",
      "pod/intent-agent-68bf74f8ff-4hqj7              1/1     Running     0          6d4h\r\n",
      "pod/policy-sync-extension-54fdccd7bb-77n9q     1/1     Running     0          6d4h\r\n",
      "pod/policy-webhook-64866489bd-84hlj            1/1     Running     0          6d21h\r\n",
      "pod/policy-webhook-64866489bd-9ks7f            1/1     Running     0          6d21h\r\n",
      "pod/sync-agent-886594f4c-6g95z                 1/1     Running     0          6d21h\r\n",
      "\r\n",
      "NAME                                TYPE        CLUSTER-IP       EXTERNAL-IP   PORT(S)    AGE\r\n",
      "service/data-protection-service     ClusterIP   10.100.200.110   <none>        443/TCP    6d21h\r\n",
      "service/extension-manager-service   ClusterIP   10.100.200.15    <none>        443/TCP    6d21h\r\n",
      "service/extension-updater           ClusterIP   10.100.200.60    <none>        9999/TCP   6d21h\r\n",
      "service/inspection-extension        ClusterIP   10.100.200.166   <none>        443/TCP    6d21h\r\n",
      "service/policy-sync-extension       ClusterIP   10.100.200.96    <none>        443/TCP    6d21h\r\n",
      "service/policy-webhook-service      ClusterIP   10.100.200.151   <none>        443/TCP    6d21h\r\n",
      "\r\n",
      "NAME                                       READY   UP-TO-DATE   AVAILABLE   AGE\r\n",
      "deployment.apps/agent-updater              1/1     1            1           6d21h\r\n",
      "deployment.apps/cluster-health-extension   1/1     1            1           6d21h\r\n",
      "deployment.apps/data-protection            1/1     1            1           6d21h\r\n",
      "deployment.apps/extension-manager          1/1     1            1           6d21h\r\n",
      "deployment.apps/extension-updater          1/1     1            1           6d21h\r\n",
      "deployment.apps/inspection-extension       1/1     1            1           6d21h\r\n",
      "deployment.apps/intent-agent               1/1     1            1           6d21h\r\n",
      "deployment.apps/policy-sync-extension      1/1     1            1           6d21h\r\n",
      "deployment.apps/policy-webhook             2/2     2            2           6d21h\r\n",
      "deployment.apps/sync-agent                 1/1     1            1           6d21h\r\n",
      "\r\n",
      "NAME                                                  DESIRED   CURRENT   READY   AGE\r\n",
      "replicaset.apps/agent-updater-7b47bd5d65              1         1         1       6d4h\r\n",
      "replicaset.apps/agent-updater-84bd95fccd              0         0         0       6d21h\r\n",
      "replicaset.apps/cluster-health-extension-67848f4568   0         0         0       6d21h\r\n",
      "replicaset.apps/cluster-health-extension-6999fbdff    1         1         1       6d4h\r\n",
      "replicaset.apps/data-protection-5b94df79f4            1         1         1       6d21h\r\n",
      "replicaset.apps/extension-manager-77c5bb9f89          1         1         1       6d4h\r\n",
      "replicaset.apps/extension-manager-7f59559487          0         0         0       6d21h\r\n",
      "replicaset.apps/extension-updater-8b464c8cf           1         1         1       6d21h\r\n",
      "replicaset.apps/inspection-extension-6dbd8674fb       1         1         1       6d4h\r\n",
      "replicaset.apps/inspection-extension-7c8b8cf547       0         0         0       6d21h\r\n",
      "replicaset.apps/intent-agent-64858578d                0         0         0       6d21h\r\n",
      "replicaset.apps/intent-agent-68bf74f8ff               1         1         1       6d4h\r\n",
      "replicaset.apps/policy-sync-extension-54fdccd7bb      1         1         1       6d4h\r\n",
      "replicaset.apps/policy-sync-extension-69bcc845fd      0         0         0       6d21h\r\n",
      "replicaset.apps/policy-webhook-64866489bd             2         2         2       6d21h\r\n",
      "replicaset.apps/sync-agent-886594f4c                  1         1         1       6d21h\r\n",
      "\r\n",
      "NAME                                         COMPLETIONS   DURATION   AGE\r\n",
      "job.batch/agentupdater-workload-1584310440   1/1           4s         41s\r\n",
      "\r\n",
      "NAME                                                SCHEDULE      SUSPEND   ACTIVE   LAST SCHEDULE   AGE\r\n",
      "cronjob.batch/agentupdater-workload                 */1 * * * *   False     0        48s             6d21h\r\n",
      "cronjob.batch/policy-webhook-cert-manager-cronjob   0 0 1 * *     False     0        <none>          6d21h\r\n"
     ]
    }
   ],
   "source": [
    "!kubectl -n vmware-system-tmc get all"
   ]
  },
  {
   "cell_type": "code",
   "execution_count": 19,
   "metadata": {},
   "outputs": [
    {
     "name": "stdout",
     "output_type": "stream",
     "text": [
      "  NAME                 CLUSTERGROUP  PROVIDER  STATE    HEALTH  LABELS                                         \r\n",
      "  poway-pks-cluster-1  pa-jkhan-aeo  UNKNOWN   PENDING  NA      tmc.cloud.vmware.com/creator:jkhan_pivotal.io  \r\n"
     ]
    }
   ],
   "source": [
    "!tmc cluster list --group pa-jkhan-aeo"
   ]
  },
  {
   "cell_type": "markdown",
   "metadata": {},
   "source": [
    "Here are the templates to use to create the Workspace"
   ]
  },
  {
   "cell_type": "code",
   "execution_count": 20,
   "metadata": {},
   "outputs": [
    {
     "name": "stdout",
     "output_type": "stream",
     "text": [
      "  NAME         DESCRIPTION                                         \r\n",
      "  generated    generated full template for the Workspace resource  \r\n",
      "  default      A default Workspace object.                         \r\n",
      "  default-iam  default template for the iam-policy resource        \r\n"
     ]
    }
   ],
   "source": [
    "!tmc workspace templates list"
   ]
  },
  {
   "cell_type": "code",
   "execution_count": 22,
   "metadata": {},
   "outputs": [
    {
     "name": "stdout",
     "output_type": "stream",
     "text": [
      "\u001b[2mℹ\u001b[0m using template \"default\"\n",
      "\u001b[32m✔\u001b[0m workspace \"pa-jkhan-aeo-ws\" created successfully \n"
     ]
    }
   ],
   "source": [
    "!tmc workspace create -n pa-jkhan-aeo-ws -d \"app\" -d default"
   ]
  },
  {
   "cell_type": "code",
   "execution_count": 25,
   "metadata": {},
   "outputs": [
    {
     "name": "stdout",
     "output_type": "stream",
     "text": [
      "\u001b[2mℹ\u001b[0m using template \"default\"\n",
      "\u001b[32m✔\u001b[0m namespace \"pa-jkhan-aeo\" created successfully \n"
     ]
    }
   ],
   "source": [
    "!tmc cluster namespace create -c poway-pks-cluster-1 -n pa-jkhan-aeo -d \"application\" -k pa-jkhan-aeo-ws"
   ]
  },
  {
   "cell_type": "code",
   "execution_count": 35,
   "metadata": {},
   "outputs": [
    {
     "name": "stdout",
     "output_type": "stream",
     "text": [
      "NAME                STATUS   AGE\r\n",
      "default             Active   6d23h\r\n",
      "kube-node-lease     Active   6d23h\r\n",
      "kube-public         Active   6d23h\r\n",
      "kube-system         Active   6d23h\r\n",
      "pa-jkhan-ns         Active   6d20h\r\n",
      "pks-system          Active   6d23h\r\n",
      "vmware-system-tmc   Active   6d21h\r\n"
     ]
    }
   ],
   "source": [
    "!kubectl get namespace"
   ]
  }
 ],
 "metadata": {
  "kernelspec": {
   "display_name": "Python 3",
   "language": "python",
   "name": "python3"
  },
  "language_info": {
   "codemirror_mode": {
    "name": "ipython",
    "version": 3
   },
   "file_extension": ".py",
   "mimetype": "text/x-python",
   "name": "python",
   "nbconvert_exporter": "python",
   "pygments_lexer": "ipython3",
   "version": "3.7.4"
  }
 },
 "nbformat": 4,
 "nbformat_minor": 4
}
