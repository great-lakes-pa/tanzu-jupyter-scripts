{
 "cells": [
  {
   "cell_type": "markdown",
   "metadata": {},
   "source": [
    "# Agenda\n",
    "\n",
    "## Create a kubernetes cluster with VMware Enterprise PKS\n",
    "\n",
    "## Attach the cluster to VMware Tanzu Mission Control\n",
    "**Authenticate to the new K8s cluster**\n",
    "\n",
    "**Verify connection to the K8s cluster**\n",
    "\n",
    "## Login to VMware Tanzu Mission Control\n",
    "### Authenticate via tmc CLI\n",
    "### query cluster groups and clusters\n",
    "### Attach K8s cluster to Tanzu Mission Control\n",
    "___"
   ]
  },
  {
   "cell_type": "markdown",
   "metadata": {},
   "source": [
    "## Create PKS Kubernetes Cluster"
   ]
  },
  {
   "cell_type": "markdown",
   "metadata": {},
   "source": [
    "### Authenticate to your PKS API and review existing clusters"
   ]
  },
  {
   "cell_type": "code",
   "execution_count": 3,
   "metadata": {},
   "outputs": [
    {
     "ename": "NameError",
     "evalue": "name 'pks' is not defined",
     "output_type": "error",
     "traceback": [
      "\u001b[0;31m---------------------------------------------------------------------------\u001b[0m",
      "\u001b[0;31mNameError\u001b[0m                                 Traceback (most recent call last)",
      "\u001b[0;32m<ipython-input-3-4cf9e6763a5e>\u001b[0m in \u001b[0;36m<module>\u001b[0;34m\u001b[0m\n\u001b[0;32m----> 1\u001b[0;31m \u001b[0mpks\u001b[0m\u001b[0;34m\u001b[0m\u001b[0;34m\u001b[0m\u001b[0m\n\u001b[0m",
      "\u001b[0;31mNameError\u001b[0m: name 'pks' is not defined"
     ]
    }
   ],
   "source": [
    "pks"
   ]
  },
  {
   "cell_type": "code",
   "execution_count": 4,
   "metadata": {},
   "outputs": [
    {
     "name": "stdout",
     "output_type": "stream",
     "text": [
      "\n",
      "API Endpoint: api.us.azure.bekind.io\n",
      "User: scott\n",
      "\n"
     ]
    }
   ],
   "source": [
    "APIURL=api.us.azure.bekind.io\n",
    "APIUSER=$PKS_USER\n",
    "APIPASS=$PKS_PASS\n",
    "pks login -a $APIURL -u $APIUSER -p $APIPASS -k"
   ]
  },
  {
   "cell_type": "code",
   "execution_count": 2,
   "metadata": {
    "scrolled": true
   },
   "outputs": [
    {
     "ename": "SyntaxError",
     "evalue": "invalid syntax (<ipython-input-2-bdb77d8b99e9>, line 1)",
     "output_type": "error",
     "traceback": [
      "\u001b[0;36m  File \u001b[0;32m\"<ipython-input-2-bdb77d8b99e9>\"\u001b[0;36m, line \u001b[0;32m1\u001b[0m\n\u001b[0;31m    pks clusters\u001b[0m\n\u001b[0m               ^\u001b[0m\n\u001b[0;31mSyntaxError\u001b[0m\u001b[0;31m:\u001b[0m invalid syntax\n"
     ]
    }
   ],
   "source": [
    "pks clusters"
   ]
  },
  {
   "cell_type": "markdown",
   "metadata": {},
   "source": [
    "*Example Output:*"
   ]
  },
  {
   "cell_type": "markdown",
   "metadata": {},
   "source": [
    "```\n",
    "Name        Plan Name  UUID                                  Status     Action\n",
    "test-demo   small      77e8836c-1849-46ed-999c-26be9672bc0e  succeeded  CREATE\n",
    "```"
   ]
  },
  {
   "cell_type": "code",
   "execution_count": 3,
   "metadata": {},
   "outputs": [
    {
     "ename": "SyntaxError",
     "evalue": "invalid syntax (<ipython-input-3-d567aa55c0b2>, line 1)",
     "output_type": "error",
     "traceback": [
      "\u001b[0;36m  File \u001b[0;32m\"<ipython-input-3-d567aa55c0b2>\"\u001b[0;36m, line \u001b[0;32m1\u001b[0m\n\u001b[0;31m    pks cluster test-demo\u001b[0m\n\u001b[0m              ^\u001b[0m\n\u001b[0;31mSyntaxError\u001b[0m\u001b[0;31m:\u001b[0m invalid syntax\n"
     ]
    }
   ],
   "source": [
    "pks cluster test-demo"
   ]
  },
  {
   "cell_type": "code",
   "execution_count": 7,
   "metadata": {},
   "outputs": [
    {
     "name": "stdout",
     "output_type": "stream",
     "text": [
      "\n",
      "Name   ID                                    Description\n",
      "small  8A0E21A8-8072-4D80-B365-D1F502085560  Single Master, 3 workers, privileged\n",
      "\n"
     ]
    }
   ],
   "source": [
    "pks plans"
   ]
  },
  {
   "cell_type": "markdown",
   "metadata": {},
   "source": [
    "### Create the PKS cluster"
   ]
  },
  {
   "cell_type": "code",
   "execution_count": 8,
   "metadata": {},
   "outputs": [
    {
     "name": "stdout",
     "output_type": "stream",
     "text": [
      "\n",
      "Error: accepts 1 arg(s), received 0\n",
      "Usage:\n",
      "  pks create-cluster <cluster-name> [flags]\n",
      "\n",
      "Examples:\n",
      "  pks create-cluster my-cluster --external-hostname example.hostname --plan production\n",
      "\n",
      "Flags:\n",
      "  -e, --external-hostname string   Address from which to access Kubernetes API\n",
      "  -h, --help                       help for create-cluster\n",
      "      --json                       Return the PKS-API output as json\n",
      "      --network-profile string     Optional, network profile name (NSX-T only)\n",
      "      --non-interactive            Don't ask for user input\n",
      "  -n, --num-nodes string           Number of worker nodes\n",
      "  -p, --plan string                Preconfigured plans. Run pks plans for more details\n",
      "      --wait                       Wait for the operation to finish\n",
      "\n"
     ]
    },
    {
     "ename": "",
     "evalue": "1",
     "output_type": "error",
     "traceback": []
    }
   ],
   "source": [
    "pks create-cluster"
   ]
  },
  {
   "cell_type": "markdown",
   "metadata": {},
   "source": [
    "### Decision time... "
   ]
  },
  {
   "cell_type": "markdown",
   "metadata": {},
   "source": [
    "Decide now how you will access the master node(s) of the resulting K8s cluster before you continue.\n",
    "\n",
    "In my case, I have a domain us.azure.bekind.io into which I will manually create a DNS entry for a load balancer whose backend points to a pool of master node(s).\n",
    "\n",
    "At the very least, if you specify an IP address in the \"external-hostname,\" you have to have already acquired that public IP address on your cloud provider.  This IP or DNS name should be publically accessible."
   ]
  },
  {
   "cell_type": "code",
   "execution_count": 10,
   "metadata": {},
   "outputs": [
    {
     "name": "stdout",
     "output_type": "stream",
     "text": [
      "\n",
      "Name:                     pa-jkhan-compton\n",
      "Plan Name:                small\n",
      "UUID:                     9c96fa22-aba4-40cd-98ce-49bd237ff4b2\n",
      "Last Action:              CREATE\n",
      "Last Action State:        in progress\n",
      "Last Action Description:  Creating cluster\n",
      "Kubernetes Master Host:   mytmc-cluster-pa-jkhan\n",
      "Kubernetes Master Port:   8443\n",
      "Worker Nodes:             3\n",
      "Kubernetes Master IP(s):  In Progress\n",
      "Network Profile Name:     \n",
      "\n",
      "Use 'pks cluster pa-jkhan-compton' to monitor the state of your cluster\n",
      "\n"
     ]
    }
   ],
   "source": [
    "!pks create-cluster pa-jkhan-compton --external-hostname mytmc-cluster-pa-jkhan --plan small"
   ]
  },
  {
   "cell_type": "markdown",
   "metadata": {},
   "source": [
    "**Example Output:**\n",
    "```\n",
    "Name:                     test-demo\n",
    "Plan Name:                small\n",
    "UUID:                     7c2f04bc-a66e-4f7b-a9a4-79574bebb470\n",
    "Last Action:              CREATE\n",
    "Last Action State:        in progress\n",
    "Last Action Description:  Creating cluster\n",
    "Kubernetes Master Host:   test.us.azure.bekind.io\n",
    "Kubernetes Master Port:   8443\n",
    "Worker Nodes:             3\n",
    "Kubernetes Master IP(s):  In Progress\n",
    "Network Profile Name:\n",
    "\n",
    "Use 'pks cluster test-azure' to monitor the state of your cluster\n",
    "```"
   ]
  },
  {
   "cell_type": "markdown",
   "metadata": {},
   "source": [
    "Monitor `pks clusters` until the cluster creation is successful"
   ]
  },
  {
   "cell_type": "code",
   "execution_count": 11,
   "metadata": {},
   "outputs": [
    {
     "name": "stdout",
     "output_type": "stream",
     "text": [
      "\n",
      "Name        Plan Name  UUID                                  Status     Action\n",
      "test-demo   small      77e8836c-1849-46ed-999c-26be9672bc0e  succeeded  CREATE\n",
      "test-azure  small      7c2f04bc-a66e-4f7b-a9a4-79574bebb470  succeeded  CREATE\n",
      "\n"
     ]
    }
   ],
   "source": [
    "!pks clusters"
   ]
  },
  {
   "cell_type": "markdown",
   "metadata": {},
   "source": [
    "Capture the credentials for your new K8s cluster"
   ]
  },
  {
   "cell_type": "code",
   "execution_count": 11,
   "metadata": {},
   "outputs": [
    {
     "name": "stdout",
     "output_type": "stream",
     "text": [
      "\n",
      "Fetching credentials for cluster compton-pks-cluster-1.\n",
      "Context set for cluster compton-pks-cluster-1.\n",
      "\n",
      "You can now switch between clusters by using:\n",
      "$kubectl config use-context <cluster-name>\n"
     ]
    }
   ],
   "source": [
    "!pks get-credentials compton-pks-cluster-1"
   ]
  },
  {
   "cell_type": "markdown",
   "metadata": {},
   "source": [
    "Examine your new cluster"
   ]
  },
  {
   "cell_type": "code",
   "execution_count": 13,
   "metadata": {},
   "outputs": [
    {
     "name": "stdout",
     "output_type": "stream",
     "text": [
      "Switched to context \"compton-pks-cluster-1\".\r\n"
     ]
    }
   ],
   "source": [
    "!kubectl config use-context compton-pks-cluster-1"
   ]
  },
  {
   "cell_type": "code",
   "execution_count": 15,
   "metadata": {},
   "outputs": [
    {
     "name": "stdout",
     "output_type": "stream",
     "text": [
      "\u001b[0;32mKubernetes master\u001b[0m is running at \u001b[0;33mhttps://cluster-1.compton.cf-app.com:8443\u001b[0m\r\n",
      "\u001b[0;32mCoreDNS\u001b[0m is running at \u001b[0;33mhttps://cluster-1.compton.cf-app.com:8443/api/v1/namespaces/kube-system/services/kube-dns:dns/proxy\u001b[0m\r\n",
      "\r\n",
      "To further debug and diagnose cluster problems, use 'kubectl cluster-info dump'.\r\n"
     ]
    }
   ],
   "source": [
    "!kubectl cluster-info"
   ]
  },
  {
   "cell_type": "code",
   "execution_count": 12,
   "metadata": {},
   "outputs": [
    {
     "name": "stdout",
     "output_type": "stream",
     "text": [
      "NAME                STATUS   AGE\n",
      "concourse           Active   70d\n",
      "concourse-main      Active   70d\n",
      "default             Active   72d\n",
      "harbor              Active   66d\n",
      "kpack               Active   69d\n",
      "kube-node-lease     Active   72d\n",
      "kube-public         Active   72d\n",
      "kube-system         Active   72d\n",
      "nginx-ingress       Active   70d\n",
      "pks-system          Active   72d\n",
      "postfacto           Active   2d15h\n",
      "vmware-system-tmc   Active   2d15h\n",
      "wap-admin           Active   70d\n"
     ]
    }
   ],
   "source": [
    "kubectl get namespaces"
   ]
  },
  {
   "cell_type": "markdown",
   "metadata": {},
   "source": [
    "Notice above the following namespaces DO NOT exist:\n",
    "* vmware-system-tmc\n",
    "* postfacto"
   ]
  },
  {
   "cell_type": "markdown",
   "metadata": {},
   "source": [
    "# Attach the cluster to Tanzu Mission Control"
   ]
  },
  {
   "cell_type": "markdown",
   "metadata": {},
   "source": [
    "Login to TMC via https://console.cloud.vmware.com"
   ]
  },
  {
   "cell_type": "markdown",
   "metadata": {},
   "source": [
    "Download the TMC CLI, make it executable, and move it into your system path"
   ]
  },
  {
   "cell_type": "markdown",
   "metadata": {},
   "source": [
    "*Cluster names and environment variables*"
   ]
  },
  {
   "cell_type": "code",
   "execution_count": 22,
   "metadata": {},
   "outputs": [],
   "source": [
    "!export TMC_CLUSTER_GROUP=pa-jkhan-compton\n",
    "!export TMC_CLUSTER=pa-jkhan-compton"
   ]
  },
  {
   "cell_type": "code",
   "execution_count": 1,
   "metadata": {},
   "outputs": [
    {
     "name": "stdout",
     "output_type": "stream",
     "text": [
      "____  _ ____\r\n",
      " | |\\/| |___\r\n",
      "\r\n",
      "Usage:\r\n",
      "  tmc [resource|action|helper] [flags]\r\n",
      "\r\n",
      "Resources:\r\n",
      "  account            Account management.\r\n",
      "  cluster            A Kubernetes cluster.\r\n",
      "  clustergroup       A group of Kubernetes clusters.\r\n",
      "  effectiveiampolicy Effective iam policy applied on a resource.\r\n",
      "  organization       Organization level management.\r\n",
      "  workspace          A group of managed Kubenetes namespaces.\r\n",
      "\r\n",
      "Actions:\r\n",
      "  login              Login to Tanzu Mission Control.\r\n",
      "  update             Update the CLI.\r\n",
      "\r\n",
      "Helpers:\r\n",
      "  completion         Generate a bash completion script.\r\n",
      "  configure          Configure the current context environment\r\n",
      "  iam                Permission management for resources.\r\n",
      "  options            General options for Tanzu Mission Control.\r\n",
      "  system             System level configuration and resources.\r\n",
      "  version            Print CLI version.\r\n",
      "\r\n",
      "Flags:\r\n",
      "  -h, --help   help for tmc\r\n",
      "\r\n",
      "Use \"tmc [command] --help\" for more information about a command.\r\n",
      "\r\n",
      "Tanzu Mission Control v1.0\r\n",
      "Copyright (c) 2020 VMware\r\n",
      "https://vmware.bintray.com/tmc/tmc-eula.txt\r\n"
     ]
    }
   ],
   "source": [
    "!tmc"
   ]
  },
  {
   "cell_type": "code",
   "execution_count": null,
   "metadata": {},
   "outputs": [],
   "source": [
    "!tmc login --name jkhan --no-configure"
   ]
  },
  {
   "cell_type": "markdown",
   "metadata": {},
   "source": [
    "**Example Output:**\n",
    "```\n",
    "ℹ To fetch an API token visit https://console.cloud.vmware.com/csp/gateway/portal/#/user/tokens\n",
    "API token****************************************************************\n",
    "Login context name  VMW_W1\n",
    "? Select default log level info\n",
    "? Select default credential tmc-workshop\n",
    "? Select default region us-east-1\n",
    "? Select default AWS SSH key bjung@vmware.com\n",
    "✔ Successfully created context \"VMW_W1\", to manage your contexts run `tmc system context -h`\n",
    "```"
   ]
  },
  {
   "cell_type": "code",
   "execution_count": null,
   "metadata": {},
   "outputs": [],
   "source": [
    "!tmc clustergroup list"
   ]
  },
  {
   "cell_type": "markdown",
   "metadata": {},
   "source": [
    "Notice above the cluster group \"cg-jbrightwell\" does not exist"
   ]
  },
  {
   "cell_type": "code",
   "execution_count": null,
   "metadata": {},
   "outputs": [],
   "source": [
    "!tmc cluster list"
   ]
  },
  {
   "cell_type": "markdown",
   "metadata": {},
   "source": [
    "Notice above the cluster \"jbrightwell-c04\" does not exist"
   ]
  },
  {
   "cell_type": "code",
   "execution_count": 20,
   "metadata": {},
   "outputs": [
    {
     "name": "stdout",
     "output_type": "stream",
     "text": [
      "  NAME         DESCRIPTION                                            \r\n",
      "  default      A default ClusterGroup object.                         \r\n",
      "  default-iam  default template for the iam-policy resource           \r\n",
      "  generated    generated full template for the ClusterGroup resource  \r\n"
     ]
    }
   ],
   "source": [
    "!tmc clustergroup templates list"
   ]
  },
  {
   "cell_type": "markdown",
   "metadata": {},
   "source": [
    "## Create a new cluster group if desired"
   ]
  },
  {
   "cell_type": "code",
   "execution_count": 24,
   "metadata": {},
   "outputs": [
    {
     "name": "stdout",
     "output_type": "stream",
     "text": [
      "\u001b[2mℹ\u001b[0m using template \"default\"\n",
      "\u001b[32m✔\u001b[0m clustergroup \"pa-jkhan-compton\" created successfully \n"
     ]
    }
   ],
   "source": [
    "!tmc clustergroup create -n pa-jkhan-compton -t default"
   ]
  },
  {
   "cell_type": "code",
   "execution_count": 25,
   "metadata": {},
   "outputs": [
    {
     "name": "stdout",
     "output_type": "stream",
     "text": [
      "  NAME                   LABELS                \r\n",
      "  area51                 origin:atari          \r\n",
      "  arul-tmc                                     \r\n",
      "  astroids               origin:atari          \r\n",
      "  avannala                                     \r\n",
      "  bboe                                         \r\n",
      "  bragazzi-pa-pks                              \r\n",
      "  caas-workshop          team:dell-tech        \r\n",
      "  cdelashmutt                                  \r\n",
      "  centipede              origin:atari          \r\n",
      "  cyberball              origin:atari          \r\n",
      "  dambor                 name:gborges          \r\n",
      "  default                                      \r\n",
      "  dfleming                                     \r\n",
      "  dragon-lair            origin:cinematronics  \r\n",
      "  droberts                                     \r\n",
      "  frogger                origin:konami         \r\n",
      "  galaga                 origin:namco          \r\n",
      "  guitar-hero            origin:activision     \r\n",
      "  heisenberg                                   \r\n",
      "  homelabs               origin:timmers        \r\n",
      "  hyrule                 origin:nintendo       \r\n",
      "  joust                  origin:nintendo       \r\n",
      "  lsilva                                       \r\n",
      "  mario-brothers         origin:nintendo       \r\n",
      "  metroid                                      \r\n",
      "  nialltest                                    \r\n",
      "  pa-arao                                      \r\n",
      "  pac-man                origin:namco          \r\n",
      "  pa-dpfeffer-cg         origin:dpfeffer       \r\n",
      "  pa-dpfeffer-dev-cg     origin:dpfeffer       \r\n",
      "  pa-jkhan-cg                                  \r\n",
      "  pa-jkhan-compton                             \r\n",
      "  pa-jsheth-cg           origin:jsheth         \r\n",
      "  pa-koundinya-clusters                        \r\n",
      "  pa-mmcnichol                                 \r\n",
      "  pa-njethnani                                 \r\n",
      "  pa-qwan-cg             origin:qwan           \r\n",
      "  pa-rmauge                                    \r\n",
      "  pa-shashmi-cg                                \r\n",
      "  pgottam-cg                                   \r\n",
      "  phoenix                origin:atari          \r\n",
      "  pong                   origin:atari          \r\n",
      "  pupperi-group                                \r\n",
      "  ridge-racer            origin:namco          \r\n",
      "  space-invaders         origin:nintendo       \r\n",
      "  star-castle            origin:cinematronics  \r\n",
      "  stargate               origin:atari          \r\n",
      "  starwars                                     \r\n",
      "  star-wars              origin:atari          \r\n",
      "  tempest                origin:atari          \r\n",
      "  vanguard               origin:snk            \r\n",
      "  warroyo                                      \r\n",
      "  wrightcode                                   \r\n",
      "  zelda                                        \r\n",
      "  zwickey                                      \r\n"
     ]
    }
   ],
   "source": [
    "!tmc clustergroup list"
   ]
  },
  {
   "cell_type": "markdown",
   "metadata": {},
   "source": [
    "## Attach the PKS cluster into the new Cluster Group"
   ]
  },
  {
   "cell_type": "code",
   "execution_count": 27,
   "metadata": {},
   "outputs": [
    {
     "name": "stdout",
     "output_type": "stream",
     "text": [
      "\u001b[32m✔\u001b[0m cluster \"compton-pks-cluster-1\" created successfully \n",
      "\u001b[2mℹ\u001b[0m Run `kubectl apply -f k8s-attach-manifest.yaml` to attach the cluster\n"
     ]
    }
   ],
   "source": [
    "!tmc cluster attach -g pa-jkhan-compton -n compton-pks-cluster-1"
   ]
  },
  {
   "cell_type": "code",
   "execution_count": 28,
   "metadata": {},
   "outputs": [
    {
     "name": "stdout",
     "output_type": "stream",
     "text": [
      "namespace/vmware-system-tmc created\n",
      "configmap/stack-config created\n",
      "secret/tmc-client-secret created\n",
      "customresourcedefinition.apiextensions.k8s.io/agents.clusters.tmc.cloud.vmware.com created\n",
      "customresourcedefinition.apiextensions.k8s.io/extensions.clusters.tmc.cloud.vmware.com created\n",
      "serviceaccount/extension-manager created\n",
      "clusterrole.rbac.authorization.k8s.io/extension-manager-role created\n",
      "clusterrolebinding.rbac.authorization.k8s.io/extension-manager-rolebinding created\n",
      "service/extension-manager-service created\n",
      "deployment.apps/extension-manager created\n",
      "serviceaccount/extension-updater-serviceaccount created\n",
      "clusterrole.rbac.authorization.k8s.io/extension-updater-clusterrole created\n",
      "clusterrolebinding.rbac.authorization.k8s.io/extension-updater-clusterrolebinding created\n",
      "service/extension-updater created\n",
      "deployment.apps/extension-updater created\n",
      "serviceaccount/agent-updater created\n",
      "clusterrole.rbac.authorization.k8s.io/agent-updater-role created\n",
      "clusterrolebinding.rbac.authorization.k8s.io/agent-updater-rolebinding created\n",
      "deployment.apps/agent-updater created\n",
      "cronjob.batch/agentupdater-workload created\n"
     ]
    }
   ],
   "source": [
    "!kubectl apply -f k8s-attach-manifest.yaml"
   ]
  },
  {
   "cell_type": "code",
   "execution_count": 29,
   "metadata": {},
   "outputs": [
    {
     "name": "stdout",
     "output_type": "stream",
     "text": [
      "NAME                STATUS   AGE\r\n",
      "default             Active   34m\r\n",
      "kube-node-lease     Active   34m\r\n",
      "kube-public         Active   34m\r\n",
      "kube-system         Active   34m\r\n",
      "pks-system          Active   25m\r\n",
      "vmware-system-tmc   Active   12s\r\n"
     ]
    }
   ],
   "source": [
    "!kubectl get namespaces"
   ]
  },
  {
   "cell_type": "markdown",
   "metadata": {},
   "source": [
    "Notice the \"vmware-system-tmc\" namespace has been created."
   ]
  },
  {
   "cell_type": "code",
   "execution_count": 33,
   "metadata": {
    "scrolled": true
   },
   "outputs": [
    {
     "name": "stdout",
     "output_type": "stream",
     "text": [
      "NAME                                         READY   STATUS      RESTARTS   AGE\r\n",
      "pod/agent-updater-9bbcb97f8-4xw6d            1/1     Running     0          5m18s\r\n",
      "pod/agentupdater-workload-1581009900-8nlxc   0/1     Completed   0          37s\r\n",
      "pod/data-protection-5786fd4f5c-zt6px         1/1     Running     0          4m51s\r\n",
      "pod/extension-manager-9788556dd-jxvg5        1/1     Running     0          5m19s\r\n",
      "pod/extension-updater-67bc948fbb-cd8vt       1/1     Running     0          5m18s\r\n",
      "pod/inspection-extension-766559696d-8fjcp    1/1     Running     0          4m46s\r\n",
      "pod/intent-agent-64858578d-fmnqk             1/1     Running     0          4m44s\r\n",
      "pod/policy-sync-extension-576f785d69-p7l7t   1/1     Running     0          4m57s\r\n",
      "pod/policy-webhook-64866489bd-7v2ms          1/1     Running     0          4m56s\r\n",
      "pod/policy-webhook-64866489bd-sl7r4          1/1     Running     1          4m56s\r\n",
      "pod/sync-agent-8644fb4db9-c488r              1/1     Running     0          4m55s\r\n",
      "\r\n",
      "\r\n",
      "NAME                                TYPE        CLUSTER-IP       EXTERNAL-IP   PORT(S)    AGE\r\n",
      "service/data-protection-service     ClusterIP   10.100.200.189   <none>        443/TCP    4m51s\r\n",
      "service/extension-manager-service   ClusterIP   10.100.200.69    <none>        443/TCP    5m19s\r\n",
      "service/extension-updater           ClusterIP   10.100.200.92    <none>        9999/TCP   5m18s\r\n",
      "service/inspection-extension        ClusterIP   10.100.200.156   <none>        443/TCP    4m46s\r\n",
      "service/policy-sync-extension       ClusterIP   10.100.200.73    <none>        443/TCP    4m57s\r\n",
      "service/policy-webhook-service      ClusterIP   10.100.200.211   <none>        443/TCP    4m57s\r\n",
      "\r\n",
      "\r\n",
      "NAME                                    READY   UP-TO-DATE   AVAILABLE   AGE\r\n",
      "deployment.apps/agent-updater           1/1     1            1           5m18s\r\n",
      "deployment.apps/data-protection         1/1     1            1           4m51s\r\n",
      "deployment.apps/extension-manager       1/1     1            1           5m19s\r\n",
      "deployment.apps/extension-updater       1/1     1            1           5m18s\r\n",
      "deployment.apps/inspection-extension    1/1     1            1           4m46s\r\n",
      "deployment.apps/intent-agent            1/1     1            1           4m44s\r\n",
      "deployment.apps/policy-sync-extension   1/1     1            1           4m57s\r\n",
      "deployment.apps/policy-webhook          2/2     2            2           4m56s\r\n",
      "deployment.apps/sync-agent              1/1     1            1           4m56s\r\n",
      "\r\n",
      "NAME                                               DESIRED   CURRENT   READY   AGE\r\n",
      "replicaset.apps/agent-updater-9bbcb97f8            1         1         1       5m18s\r\n",
      "replicaset.apps/data-protection-5786fd4f5c         1         1         1       4m51s\r\n",
      "replicaset.apps/extension-manager-9788556dd        1         1         1       5m19s\r\n",
      "replicaset.apps/extension-updater-67bc948fbb       1         1         1       5m18s\r\n",
      "replicaset.apps/inspection-extension-766559696d    1         1         1       4m46s\r\n",
      "replicaset.apps/intent-agent-64858578d             1         1         1       4m44s\r\n",
      "replicaset.apps/policy-sync-extension-576f785d69   1         1         1       4m57s\r\n",
      "replicaset.apps/policy-webhook-64866489bd          2         2         2       4m56s\r\n",
      "replicaset.apps/sync-agent-8644fb4db9              1         1         1       4m56s\r\n",
      "\r\n",
      "\r\n",
      "\r\n",
      "NAME                                         COMPLETIONS   DURATION   AGE\r\n",
      "job.batch/agentupdater-workload-1581009900   1/1           5s         37s\r\n",
      "\r\n",
      "NAME                                                SCHEDULE      SUSPEND   ACTIVE   LAST SCHEDULE   AGE\r\n",
      "cronjob.batch/agentupdater-workload                 */1 * * * *   False     0        39s             5m17s\r\n",
      "cronjob.batch/policy-webhook-cert-manager-cronjob   0 0 1 * *     False     0        <none>          4m56s\r\n"
     ]
    }
   ],
   "source": [
    "!kubectl -n vmware-system-tmc get all"
   ]
  },
  {
   "cell_type": "code",
   "execution_count": 31,
   "metadata": {},
   "outputs": [
    {
     "name": "stdout",
     "output_type": "stream",
     "text": [
      "  NAME                   CLUSTERGROUP      PROVIDER  STATE  HEALTH  LABELS                                         \r\n",
      "  compton-pks-cluster-1  pa-jkhan-compton  GCP_GCE   READY  NA      tmc.cloud.vmware.com/creator:jkhan_pivotal.io  \r\n"
     ]
    }
   ],
   "source": [
    "!tmc cluster list --group pa-jkhan-compton"
   ]
  },
  {
   "cell_type": "markdown",
   "metadata": {},
   "source": [
    "*This appears to be a bug.  The above command should scope search to 'cg-jbrightwell'*"
   ]
  },
  {
   "cell_type": "code",
   "execution_count": 38,
   "metadata": {},
   "outputs": [],
   "source": [
    "open https://vmww1.tmc.cloud.vmware.com/clusters/$TMC_CLUSTER/global/overview"
   ]
  },
  {
   "cell_type": "markdown",
   "metadata": {},
   "source": [
    "## Retrospective"
   ]
  },
  {
   "cell_type": "code",
   "execution_count": 39,
   "metadata": {},
   "outputs": [],
   "source": [
    "open -a Firefox http://postfacto.us.azure.bekind.io"
   ]
  },
  {
   "cell_type": "markdown",
   "metadata": {},
   "source": [
    "### Create a Tanzu Mission Control policy managed namespace where the application will run"
   ]
  },
  {
   "cell_type": "markdown",
   "metadata": {},
   "source": [
    "### ... but first we decide to create a Workspace to manage like-policy Namespaces as one"
   ]
  },
  {
   "cell_type": "markdown",
   "metadata": {},
   "source": [
    "Here are the templates to use to create the Workspace"
   ]
  },
  {
   "cell_type": "code",
   "execution_count": 32,
   "metadata": {},
   "outputs": [
    {
     "name": "stdout",
     "output_type": "stream",
     "text": [
      "  NAME         DESCRIPTION                                         \r\n",
      "  default      A default Workspace object.                         \r\n",
      "  default-iam  default template for the iam-policy resource        \r\n",
      "  generated    generated full template for the Workspace resource  \r\n"
     ]
    }
   ],
   "source": [
    "!tmc workspace templates list"
   ]
  },
  {
   "cell_type": "code",
   "execution_count": 41,
   "metadata": {},
   "outputs": [
    {
     "name": "stdout",
     "output_type": "stream",
     "text": [
      "\u001b[2mℹ\u001b[0m using template \"default\"\n",
      "\u001b[32m✔\u001b[0m workspace \"prod-frontend\" created successfully \n"
     ]
    }
   ],
   "source": [
    "!export TMC_WORKSPACE=prod-frontend\n",
    "!tmc workspace create -n $TMC_WORKSPACE -d \"Production internet accessible apps\" -d default"
   ]
  },
  {
   "cell_type": "code",
   "execution_count": 42,
   "metadata": {},
   "outputs": [
    {
     "name": "stdout",
     "output_type": "stream",
     "text": [
      "\u001b[2mℹ\u001b[0m using template \"default\"\n",
      "\u001b[32m✔\u001b[0m namespace \"postfacto\" created successfully \n"
     ]
    }
   ],
   "source": [
    "!tmc cluster namespace create -c $TMC_CLUSTER -n postfacto -d \"Retrospective application\" -k $TMC_WORKSPACE"
   ]
  },
  {
   "cell_type": "code",
   "execution_count": 43,
   "metadata": {},
   "outputs": [
    {
     "name": "stdout",
     "output_type": "stream",
     "text": [
      "NAME                STATUS   AGE\n",
      "concourse           Active   67d\n",
      "concourse-main      Active   67d\n",
      "default             Active   70d\n",
      "harbor              Active   64d\n",
      "kpack               Active   67d\n",
      "kube-node-lease     Active   70d\n",
      "kube-public         Active   70d\n",
      "kube-system         Active   70d\n",
      "nginx-ingress       Active   68d\n",
      "pks-system          Active   70d\n",
      "postfacto           Active   1s\n",
      "vmware-system-tmc   Active   2m42s\n",
      "wap-admin           Active   67d\n"
     ]
    }
   ],
   "source": [
    "!kubectl get namespace"
   ]
  },
  {
   "cell_type": "markdown",
   "metadata": {},
   "source": [
    "### Install postfacto via helm3"
   ]
  },
  {
   "cell_type": "code",
   "execution_count": 44,
   "metadata": {},
   "outputs": [
    {
     "name": "stdout",
     "output_type": "stream",
     "text": [
      "NAME: postfacto\n",
      "LAST DEPLOYED: Tue Jan 28 20:40:16 2020\n",
      "NAMESPACE: postfacto\n",
      "STATUS: deployed\n",
      "REVISION: 1\n",
      "NOTES:\n",
      "1. Get the application URL by running these commands:\n",
      "  export POD_NAME=$(kubectl get pods --namespace postfacto -l \"app.kubernetes.io/name=postfacto,app.kubernetes.io/instance=postfacto\" -o jsonpath=\"{.items[0].metadata.name}\")\n",
      "  echo \"Visit http://127.0.0.1:8080 to use your application\"\n",
      "  kubectl port-forward $POD_NAME 8080:80\n",
      "ingress.extensions/postfacto-ingress created\n",
      "secret/ingress-tls-us-azure-bekind-io created\n"
     ]
    }
   ],
   "source": [
    "!helm3 install --namespace postfacto postfacto \\\n",
    "    --values postfacto/deployment-values.yaml \\\n",
    "    https://github.com/pivotal/postfacto/releases/download/4.1.1/postfacto-0.1.0-beta.tgz\n",
    "kubectl --namespace postfacto apply -f postfacto/postfacto-ingress-us-azure-bekind-io.yaml\n",
    "\n",
    "gzip -d postfacto/ingress-tls-us-azure-bekind-io.yaml.gz\n",
    "kubectl --namespace postfacto apply -f postfacto/ingress-tls-us-azure-bekind-io.yaml\n",
    "gzip postfacto/ingress-tls-us-azure-bekind-io.yaml"
   ]
  },
  {
   "cell_type": "code",
   "execution_count": 49,
   "metadata": {},
   "outputs": [],
   "source": [
    "open -a Firefox https://vmww1.tmc.cloud.vmware.com/clusters/$TMC_CLUSTER/global/namespaces"
   ]
  },
  {
   "cell_type": "code",
   "execution_count": null,
   "metadata": {
    "scrolled": false
   },
   "outputs": [],
   "source": [
    "kubectl -n postfacto get all"
   ]
  },
  {
   "cell_type": "code",
   "execution_count": null,
   "metadata": {},
   "outputs": [],
   "source": [
    "kubectl -n postfacto \\\n",
    "  exec $(kubectl -n postfacto get pods -l \"app.kubernetes.io/name\"=postfacto -o=jsonpath='{.items..metadata.name}') \\\n",
    "  create-admin-user jbrightwell@vmware.com bekind"
   ]
  },
  {
   "cell_type": "code",
   "execution_count": null,
   "metadata": {},
   "outputs": [],
   "source": [
    "open -a Firefox https://postfacto.us.azure.bekind.io/admin"
   ]
  },
  {
   "cell_type": "code",
   "execution_count": 18,
   "metadata": {},
   "outputs": [],
   "source": [
    "open -a Firefox https://postfacto.us.azure.bekind.io/retros/tmc"
   ]
  },
  {
   "cell_type": "markdown",
   "metadata": {},
   "source": [
    "Fin"
   ]
  }
 ],
 "metadata": {
  "kernelspec": {
   "display_name": "Python 3",
   "language": "python",
   "name": "python3"
  },
  "language_info": {
   "codemirror_mode": {
    "name": "ipython",
    "version": 3
   },
   "file_extension": ".py",
   "mimetype": "text/x-python",
   "name": "python",
   "nbconvert_exporter": "python",
   "pygments_lexer": "ipython3",
   "version": "3.7.4"
  }
 },
 "nbformat": 4,
 "nbformat_minor": 4
}
